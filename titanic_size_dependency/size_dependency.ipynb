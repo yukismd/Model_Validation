{
 "cells": [
  {
   "cell_type": "code",
   "execution_count": null,
   "id": "513f3451-498a-4ff1-a3dd-d786edc77a21",
   "metadata": {},
   "outputs": [],
   "source": []
  },
  {
   "cell_type": "code",
   "execution_count": 32,
   "id": "42798052-8a6c-4f3a-93cf-a2db3fbf7a7d",
   "metadata": {},
   "outputs": [],
   "source": [
    "import pandas as pd\n",
    "#import xgboost as xgb\n",
    "from xgboost import XGBClassifier\n",
    "from sklearn.metrics import log_loss, roc_auc_score\n",
    "import statistics\n",
    "import matplotlib.pyplot as plt"
   ]
  },
  {
   "cell_type": "code",
   "execution_count": 2,
   "id": "8d408312-19bc-49b9-b0eb-9256feb8dd0c",
   "metadata": {},
   "outputs": [
    {
     "name": "stdout",
     "output_type": "stream",
     "text": [
      "TitanicData2.csv         TitanicData2_dcTest.csv  TitanicData2_dcTrain.csv\n"
     ]
    }
   ],
   "source": [
    "!ls ../titanic/data"
   ]
  },
  {
   "cell_type": "code",
   "execution_count": 3,
   "id": "4afca123-d8e5-4649-a382-2ad2208383ad",
   "metadata": {},
   "outputs": [
    {
     "name": "stdout",
     "output_type": "stream",
     "text": [
      "(1047, 8) (262, 8)\n"
     ]
    },
    {
     "data": {
      "text/html": [
       "<div>\n",
       "<style scoped>\n",
       "    .dataframe tbody tr th:only-of-type {\n",
       "        vertical-align: middle;\n",
       "    }\n",
       "\n",
       "    .dataframe tbody tr th {\n",
       "        vertical-align: top;\n",
       "    }\n",
       "\n",
       "    .dataframe thead th {\n",
       "        text-align: right;\n",
       "    }\n",
       "</style>\n",
       "<table border=\"1\" class=\"dataframe\">\n",
       "  <thead>\n",
       "    <tr style=\"text-align: right;\">\n",
       "      <th></th>\n",
       "      <th>Passenger_Id</th>\n",
       "      <th>pclass</th>\n",
       "      <th>sex</th>\n",
       "      <th>age</th>\n",
       "      <th>sibsp</th>\n",
       "      <th>parch</th>\n",
       "      <th>fare</th>\n",
       "      <th>survived</th>\n",
       "    </tr>\n",
       "  </thead>\n",
       "  <tbody>\n",
       "    <tr>\n",
       "      <th>0</th>\n",
       "      <td>648</td>\n",
       "      <td>3rd</td>\n",
       "      <td>female</td>\n",
       "      <td>22.0</td>\n",
       "      <td>0</td>\n",
       "      <td>0</td>\n",
       "      <td>7.7500</td>\n",
       "      <td>1</td>\n",
       "    </tr>\n",
       "    <tr>\n",
       "      <th>1</th>\n",
       "      <td>391</td>\n",
       "      <td>3rd</td>\n",
       "      <td>male</td>\n",
       "      <td>16.0</td>\n",
       "      <td>1</td>\n",
       "      <td>3</td>\n",
       "      <td>34.3750</td>\n",
       "      <td>0</td>\n",
       "    </tr>\n",
       "    <tr>\n",
       "      <th>2</th>\n",
       "      <td>351</td>\n",
       "      <td>1st</td>\n",
       "      <td>female</td>\n",
       "      <td>49.0</td>\n",
       "      <td>1</td>\n",
       "      <td>0</td>\n",
       "      <td>76.7292</td>\n",
       "      <td>1</td>\n",
       "    </tr>\n",
       "    <tr>\n",
       "      <th>3</th>\n",
       "      <td>1163</td>\n",
       "      <td>3rd</td>\n",
       "      <td>female</td>\n",
       "      <td>24.0</td>\n",
       "      <td>0</td>\n",
       "      <td>0</td>\n",
       "      <td>7.7500</td>\n",
       "      <td>0</td>\n",
       "    </tr>\n",
       "    <tr>\n",
       "      <th>4</th>\n",
       "      <td>105</td>\n",
       "      <td>3rd</td>\n",
       "      <td>female</td>\n",
       "      <td>18.0</td>\n",
       "      <td>0</td>\n",
       "      <td>0</td>\n",
       "      <td>9.8417</td>\n",
       "      <td>1</td>\n",
       "    </tr>\n",
       "  </tbody>\n",
       "</table>\n",
       "</div>"
      ],
      "text/plain": [
       "   Passenger_Id pclass     sex   age  sibsp  parch     fare  survived\n",
       "0           648    3rd  female  22.0      0      0   7.7500         1\n",
       "1           391    3rd    male  16.0      1      3  34.3750         0\n",
       "2           351    1st  female  49.0      1      0  76.7292         1\n",
       "3          1163    3rd  female  24.0      0      0   7.7500         0\n",
       "4           105    3rd  female  18.0      0      0   9.8417         1"
      ]
     },
     "execution_count": 3,
     "metadata": {},
     "output_type": "execute_result"
    }
   ],
   "source": [
    "df_train = pd.read_csv('../titanic/data/TitanicData2_dcTrain.csv')\n",
    "df_test = pd.read_csv('../titanic/data/TitanicData2_dcTest.csv')\n",
    "print(df_train.shape, df_test.shape)\n",
    "df_train.head()"
   ]
  },
  {
   "cell_type": "code",
   "execution_count": 4,
   "id": "72d24197-25b2-4911-b815-f1f9d926749f",
   "metadata": {},
   "outputs": [],
   "source": [
    "# カテゴリカルカラムをcategory型に変換\n",
    "df_train['pclass'] = df_train['pclass'].astype('category')\n",
    "df_train['sex'] = df_train['sex'].astype('category')\n",
    "df_test['pclass'] = df_test['pclass'].astype('category')\n",
    "df_test['sex'] = df_test['sex'].astype('category')"
   ]
  },
  {
   "cell_type": "code",
   "execution_count": 88,
   "id": "4ea7cd54-f9cd-468e-863a-c96aa77aa9e5",
   "metadata": {},
   "outputs": [
    {
     "name": "stdout",
     "output_type": "stream",
     "text": [
      "CPU times: user 16.9 s, sys: 814 ms, total: 17.7 s\n",
      "Wall time: 1.19 s\n"
     ]
    }
   ],
   "source": [
    "%%time\n",
    "\n",
    "train_size = {}\n",
    "res_train_logloss = {}\n",
    "res_test_logloss = {}\n",
    "res_train_auc = {}\n",
    "res_test_auc = {}\n",
    "\n",
    "for fraction in [0.2, 0.4, 0.6, 0.8, 1]:\n",
    "    ## 学習データの割合\n",
    "    _train_size = []\n",
    "    _res_train_logloss = []\n",
    "    _res_test_logloss = []\n",
    "    _res_train_auc = []\n",
    "    _res_test_auc = []\n",
    "\n",
    "    for _ in range(5):\n",
    "        ## 複数回回の確認 - データサンプリングと、モデルあてはめにおいてシード設定なし\n",
    "\n",
    "        # fractionに応じた学習データのサンプリング\n",
    "        df_train_sampled = df_train.sample(frac=fraction, replace=False)\n",
    "\n",
    "        m = XGBClassifier(objective='binary:logistic',\n",
    "                  max_depth=2, \n",
    "                  #n_estimators=30,\n",
    "                  enable_categorical=True)\n",
    "        m.fit(df_train_sampled[['pclass','sex','age','sibsp','parch','fare']], df_train_sampled['survived'])\n",
    "\n",
    "        train_pred = m.predict_proba(df_train_sampled[['pclass','sex','age','sibsp','parch','fare']])\n",
    "        test_pred = m.predict_proba(df_test[['pclass','sex','age','sibsp','parch','fare']])\n",
    "        train_logloss = log_loss(df_train_sampled['survived'], train_pred[:,1])\n",
    "        test_logloss = log_loss(df_test['survived'], test_pred[:,1])\n",
    "        train_auc = roc_auc_score(df_train_sampled['survived'], train_pred[:,1])\n",
    "        test_auc = roc_auc_score(df_test['survived'], test_pred[:,1])\n",
    "\n",
    "        _train_size.append(df_train_sampled.shape[0])\n",
    "        _res_train_logloss.append(train_logloss)\n",
    "        _res_test_logloss.append(test_logloss)\n",
    "        _res_train_auc.append(train_auc)\n",
    "        _res_test_auc.append(test_auc)\n",
    "\n",
    "    train_size[fraction] = _train_size\n",
    "    res_train_logloss[fraction] = _res_train_logloss\n",
    "    res_test_logloss[fraction] = _res_test_logloss\n",
    "    res_train_auc[fraction] = _res_train_auc\n",
    "    res_test_auc[fraction] = _res_test_auc"
   ]
  },
  {
   "cell_type": "code",
   "execution_count": 89,
   "id": "65b7deea-dd19-47fd-abd4-4252099e633f",
   "metadata": {},
   "outputs": [
    {
     "data": {
      "text/plain": [
       "{0.2: [209, 209, 209, 209, 209],\n",
       " 0.4: [419, 419, 419, 419, 419],\n",
       " 0.6: [628, 628, 628, 628, 628],\n",
       " 0.8: [838, 838, 838, 838, 838],\n",
       " 1: [1047, 1047, 1047, 1047, 1047]}"
      ]
     },
     "execution_count": 89,
     "metadata": {},
     "output_type": "execute_result"
    }
   ],
   "source": [
    "train_size"
   ]
  },
  {
   "cell_type": "code",
   "execution_count": 90,
   "id": "65d8ed2e-c9a2-4f51-bdad-bbcb5a7d8ab1",
   "metadata": {},
   "outputs": [
    {
     "data": {
      "text/plain": [
       "{0.2: [0.7854320987654321,\n",
       "  0.7958024691358024,\n",
       "  0.8238271604938271,\n",
       "  0.7873765432098765,\n",
       "  0.818641975308642],\n",
       " 0.4: [0.8006790123456788,\n",
       "  0.8361111111111111,\n",
       "  0.8002160493827161,\n",
       "  0.8132716049382716,\n",
       "  0.8082716049382715],\n",
       " 0.6: [0.8336111111111112,\n",
       "  0.8240740740740741,\n",
       "  0.8232407407407407,\n",
       "  0.837253086419753,\n",
       "  0.8265432098765433],\n",
       " 0.8: [0.8383333333333334,\n",
       "  0.8427160493827159,\n",
       "  0.8381172839506174,\n",
       "  0.8375617283950617,\n",
       "  0.8522222222222223],\n",
       " 1: [0.8451234567901235,\n",
       "  0.8451234567901235,\n",
       "  0.8451234567901235,\n",
       "  0.8451234567901235,\n",
       "  0.8451234567901235]}"
      ]
     },
     "execution_count": 90,
     "metadata": {},
     "output_type": "execute_result"
    }
   ],
   "source": [
    "res_test_auc"
   ]
  },
  {
   "cell_type": "code",
   "execution_count": 98,
   "id": "7c6f81d7-d93d-4cb5-bef2-36588c7a53fd",
   "metadata": {},
   "outputs": [],
   "source": [
    "# 複数回同じfractionでモデル作成したので、その結果の平均値を取得\n",
    "train_size_average = {key: statistics.mean(values) for key, values in train_size.items()}\n",
    "res_train_logloss_average = {key: statistics.mean(values) for key, values in res_train_logloss.items()}\n",
    "res_test_logloss_average = {key: statistics.mean(values) for key, values in res_test_logloss.items()}\n",
    "res_train_auc_average = {key: statistics.mean(values) for key, values in res_train_auc.items()}\n",
    "res_test_auc_average = {key: statistics.mean(values) for key, values in res_test_auc.items()}"
   ]
  },
  {
   "cell_type": "code",
   "execution_count": 100,
   "id": "ea171464-1f2e-464c-91a8-8aba1ad0224a",
   "metadata": {},
   "outputs": [
    {
     "data": {
      "image/png": "[encoded data removed]",
      "text/plain": [
       "<Figure size 500x300 with 1 Axes>"
      ]
     },
     "metadata": {},
     "output_type": "display_data"
    }
   ],
   "source": [
    "## Logloss\n",
    "\n",
    "# プロット用データ\n",
    "#x1 = list(res_train_logloss_average.keys())\n",
    "x1 = list(train_size_average.values())\n",
    "y1 = list(res_train_logloss_average.values())\n",
    "\n",
    "#x2 = list(res_test_logloss_average.keys())\n",
    "x2 = list(train_size_average.values())\n",
    "y2 = list(res_test_logloss_average.values())\n",
    "\n",
    "# グラフの作成\n",
    "plt.figure(figsize=(5, 3))\n",
    "plt.plot(x1, y1, marker='o', label='train', color='blue')\n",
    "plt.plot(x2, y2, marker='o', label='test', color='orange')\n",
    "plt.title('Size Dependency - Logloss', fontsize=12)\n",
    "plt.xlabel('Train Data Size', fontsize=10)\n",
    "plt.ylabel('Average Logloss', fontsize=10)\n",
    "plt.grid(True)\n",
    "plt.legend(fontsize=8)\n",
    "plt.tight_layout()\n",
    "\n",
    "# グラフを表示\n",
    "plt.show()"
   ]
  },
  {
   "cell_type": "code",
   "execution_count": 93,
   "id": "398c4c71-9dbb-4d48-85f6-13a327973b5e",
   "metadata": {},
   "outputs": [
    {
     "data": {
      "text/plain": [
       "{0.2: 0.21236492400127338,\n",
       " 0.4: 0.2761785739939147,\n",
       " 0.6: 0.30734120301715007,\n",
       " 0.8: 0.3185784863470104,\n",
       " 1: 0.33502339482311244}"
      ]
     },
     "execution_count": 93,
     "metadata": {},
     "output_type": "execute_result"
    }
   ],
   "source": [
    "res_train_logloss_average"
   ]
  },
  {
   "cell_type": "code",
   "execution_count": 94,
   "id": "11b8c098-a35b-419d-8555-ae1f5be1be69",
   "metadata": {},
   "outputs": [
    {
     "data": {
      "text/plain": [
       "{0.2: 0.5736346222490212,\n",
       " 0.4: 0.5292297398459137,\n",
       " 0.6: 0.49737966639728093,\n",
       " 0.8: 0.4782198418407917,\n",
       " 1: 0.46390261010171024}"
      ]
     },
     "execution_count": 94,
     "metadata": {},
     "output_type": "execute_result"
    }
   ],
   "source": [
    "res_test_logloss_average"
   ]
  },
  {
   "cell_type": "code",
   "execution_count": 95,
   "id": "811e2475-40df-43ef-aede-b92e7bfd57c6",
   "metadata": {},
   "outputs": [
    {
     "data": {
      "image/png": "[encoded data removed]",
      "text/plain": [
       "<Figure size 500x300 with 1 Axes>"
      ]
     },
     "metadata": {},
     "output_type": "display_data"
    }
   ],
   "source": [
    "## AUC\n",
    "\n",
    "# プロット用データ\n",
    "#x1 = list(res_train_auc_average.keys())\n",
    "x1 = list(train_size_average.values())\n",
    "y1 = list(res_train_auc_average.values())\n",
    "\n",
    "#x2 = list(res_test_auc_average.keys())\n",
    "x2 = list(train_size_average.values())\n",
    "y2 = list(res_test_auc_average.values())\n",
    "\n",
    "# グラフの作成\n",
    "plt.figure(figsize=(5, 3))\n",
    "plt.plot(x1, y1, marker='o', label='train', color='blue')\n",
    "plt.plot(x2, y2, marker='o', label='test', color='orange')\n",
    "plt.title('Size Dependency - AUC', fontsize=12)\n",
    "plt.xlabel('Train Data Size', fontsize=10)\n",
    "plt.ylabel('Average AUC', fontsize=10)\n",
    "plt.grid(True)\n",
    "plt.legend(fontsize=8)\n",
    "plt.tight_layout()\n",
    "\n",
    "# グラフを表示\n",
    "plt.show()"
   ]
  },
  {
   "cell_type": "code",
   "execution_count": 96,
   "id": "8bda51f7-e689-4756-93c9-f9939486e5bc",
   "metadata": {},
   "outputs": [
    {
     "data": {
      "text/plain": [
       "{0.2: 0.9769165987946209,\n",
       " 0.4: 0.9548427276567544,\n",
       " 0.6: 0.9423324491074319,\n",
       " 0.8: 0.9362736405123371,\n",
       " 1: 0.9264663833075735}"
      ]
     },
     "execution_count": 96,
     "metadata": {},
     "output_type": "execute_result"
    }
   ],
   "source": [
    "res_train_auc_average"
   ]
  },
  {
   "cell_type": "code",
   "execution_count": 97,
   "id": "4bd988ec-b290-40c6-9d8b-e482383f3f32",
   "metadata": {},
   "outputs": [
    {
     "data": {
      "text/plain": [
       "{0.2: 0.8022160493827161,\n",
       " 0.4: 0.8117098765432098,\n",
       " 0.6: 0.8289444444444445,\n",
       " 0.8: 0.8417901234567902,\n",
       " 1: 0.8451234567901235}"
      ]
     },
     "execution_count": 97,
     "metadata": {},
     "output_type": "execute_result"
    }
   ],
   "source": [
    "res_test_auc_average"
   ]
  },
  {
   "cell_type": "code",
   "execution_count": null,
   "id": "4f4b8412-e5ba-48f1-9448-158a0eff751a",
   "metadata": {},
   "outputs": [],
   "source": []
  }
 ],
 "metadata": {
  "kernelspec": {
   "display_name": "Python 3 (ipykernel)",
   "language": "python",
   "name": "python3"
  },
  "language_info": {
   "codemirror_mode": {
    "name": "ipython",
    "version": 3
   },
   "file_extension": ".py",
   "mimetype": "text/x-python",
   "name": "python",
   "nbconvert_exporter": "python",
   "pygments_lexer": "ipython3",
   "version": "3.10.14"
  }
 },
 "nbformat": 4,
 "nbformat_minor": 5
}
