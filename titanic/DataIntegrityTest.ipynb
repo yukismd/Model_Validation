{
 "cells": [
  {
   "cell_type": "markdown",
   "id": "ba5b626c-ab60-4cc1-bde6-41db14cf7a9b",
   "metadata": {},
   "source": [
    "# Data Integrity\n",
    "- Quick Start: https://docs.deepchecks.com/stable/tabular/auto_tutorials/quickstarts/plot_quick_data_integrity.html\n",
    "- Gallery: https://docs.deepchecks.com/stable/tabular/auto_checks/data_integrity/index.html"
   ]
  },
  {
   "cell_type": "code",
   "execution_count": 1,
   "id": "bef84fd9-f12e-413d-80bb-fa314702b437",
   "metadata": {},
   "outputs": [],
   "source": [
    "import json\n",
    "\n",
    "import pandas as pd\n",
    "from deepchecks.tabular import Dataset\n",
    "from deepchecks.tabular.suites import data_integrity"
   ]
  },
  {
   "cell_type": "code",
   "execution_count": 2,
   "id": "ad254786-37a6-47a5-92c1-7fc250b536c2",
   "metadata": {},
   "outputs": [
    {
     "name": "stdout",
     "output_type": "stream",
     "text": [
      "TitanicData2.csv\n"
     ]
    }
   ],
   "source": [
    "!ls data"
   ]
  },
  {
   "cell_type": "code",
   "execution_count": 3,
   "id": "8781f183-f48d-4425-ae33-3321a11463bb",
   "metadata": {},
   "outputs": [
    {
     "name": "stdout",
     "output_type": "stream",
     "text": [
      "(1309, 15)\n",
      "(1309, 8)\n"
     ]
    },
    {
     "data": {
      "text/html": [
       "<div>\n",
       "<style scoped>\n",
       "    .dataframe tbody tr th:only-of-type {\n",
       "        vertical-align: middle;\n",
       "    }\n",
       "\n",
       "    .dataframe tbody tr th {\n",
       "        vertical-align: top;\n",
       "    }\n",
       "\n",
       "    .dataframe thead th {\n",
       "        text-align: right;\n",
       "    }\n",
       "</style>\n",
       "<table border=\"1\" class=\"dataframe\">\n",
       "  <thead>\n",
       "    <tr style=\"text-align: right;\">\n",
       "      <th></th>\n",
       "      <th>Passenger_Id</th>\n",
       "      <th>pclass</th>\n",
       "      <th>sex</th>\n",
       "      <th>age</th>\n",
       "      <th>sibsp</th>\n",
       "      <th>parch</th>\n",
       "      <th>fare</th>\n",
       "      <th>survived</th>\n",
       "    </tr>\n",
       "  </thead>\n",
       "  <tbody>\n",
       "    <tr>\n",
       "      <th>0</th>\n",
       "      <td>1</td>\n",
       "      <td>3rd</td>\n",
       "      <td>male</td>\n",
       "      <td>39.0</td>\n",
       "      <td>1</td>\n",
       "      <td>5</td>\n",
       "      <td>31.2750</td>\n",
       "      <td>0</td>\n",
       "    </tr>\n",
       "    <tr>\n",
       "      <th>1</th>\n",
       "      <td>2</td>\n",
       "      <td>3rd</td>\n",
       "      <td>female</td>\n",
       "      <td>15.0</td>\n",
       "      <td>0</td>\n",
       "      <td>0</td>\n",
       "      <td>8.0292</td>\n",
       "      <td>1</td>\n",
       "    </tr>\n",
       "    <tr>\n",
       "      <th>2</th>\n",
       "      <td>3</td>\n",
       "      <td>2nd</td>\n",
       "      <td>male</td>\n",
       "      <td>26.0</td>\n",
       "      <td>1</td>\n",
       "      <td>1</td>\n",
       "      <td>29.0000</td>\n",
       "      <td>1</td>\n",
       "    </tr>\n",
       "    <tr>\n",
       "      <th>3</th>\n",
       "      <td>4</td>\n",
       "      <td>3rd</td>\n",
       "      <td>male</td>\n",
       "      <td>23.0</td>\n",
       "      <td>0</td>\n",
       "      <td>0</td>\n",
       "      <td>7.8542</td>\n",
       "      <td>0</td>\n",
       "    </tr>\n",
       "    <tr>\n",
       "      <th>4</th>\n",
       "      <td>5</td>\n",
       "      <td>3rd</td>\n",
       "      <td>male</td>\n",
       "      <td>20.0</td>\n",
       "      <td>1</td>\n",
       "      <td>0</td>\n",
       "      <td>7.9250</td>\n",
       "      <td>1</td>\n",
       "    </tr>\n",
       "  </tbody>\n",
       "</table>\n",
       "</div>"
      ],
      "text/plain": [
       "   Passenger_Id pclass     sex   age  sibsp  parch     fare  survived\n",
       "0             1    3rd    male  39.0      1      5  31.2750         0\n",
       "1             2    3rd  female  15.0      0      0   8.0292         1\n",
       "2             3    2nd    male  26.0      1      1  29.0000         1\n",
       "3             4    3rd    male  23.0      0      0   7.8542         0\n",
       "4             5    3rd    male  20.0      1      0   7.9250         1"
      ]
     },
     "execution_count": 3,
     "metadata": {},
     "output_type": "execute_result"
    }
   ],
   "source": [
    "df = pd.read_csv('data/TitanicData2.csv')\n",
    "print(df.shape)\n",
    "df = df[['Passenger_Id','pclass','sex','age','sibsp','parch','fare','survived']]\n",
    "print(df.shape)\n",
    "df.head()"
   ]
  },
  {
   "cell_type": "code",
   "execution_count": 4,
   "id": "a6da4e5b-19ea-45d3-b674-9b6d97c9cd3b",
   "metadata": {},
   "outputs": [
    {
     "data": {
      "text/plain": [
       "Passenger_Id      int64\n",
       "pclass           object\n",
       "sex              object\n",
       "age             float64\n",
       "sibsp             int64\n",
       "parch             int64\n",
       "fare            float64\n",
       "survived          int64\n",
       "dtype: object"
      ]
     },
     "execution_count": 4,
     "metadata": {},
     "output_type": "execute_result"
    }
   ],
   "source": [
    "df.dtypes"
   ]
  },
  {
   "cell_type": "code",
   "execution_count": 5,
   "id": "945b9fd9-5666-4643-b951-59d0237558ab",
   "metadata": {},
   "outputs": [
    {
     "data": {
      "text/plain": [
       "Passenger_Id      0\n",
       "pclass            0\n",
       "sex               0\n",
       "age             263\n",
       "sibsp             0\n",
       "parch             0\n",
       "fare              1\n",
       "survived          0\n",
       "dtype: int64"
      ]
     },
     "execution_count": 5,
     "metadata": {},
     "output_type": "execute_result"
    }
   ],
   "source": [
    "df.isna().sum()"
   ]
  },
  {
   "cell_type": "code",
   "execution_count": 6,
   "id": "18cb0e18-4e0a-43be-aaad-ea89ff4005d1",
   "metadata": {},
   "outputs": [
    {
     "data": {
      "text/html": [
       "<div>\n",
       "<style scoped>\n",
       "    .dataframe tbody tr th:only-of-type {\n",
       "        vertical-align: middle;\n",
       "    }\n",
       "\n",
       "    .dataframe tbody tr th {\n",
       "        vertical-align: top;\n",
       "    }\n",
       "\n",
       "    .dataframe thead th {\n",
       "        text-align: right;\n",
       "    }\n",
       "</style>\n",
       "<table border=\"1\" class=\"dataframe\">\n",
       "  <thead>\n",
       "    <tr style=\"text-align: right;\">\n",
       "      <th></th>\n",
       "      <th>Passenger_Id</th>\n",
       "      <th>age</th>\n",
       "      <th>sibsp</th>\n",
       "      <th>parch</th>\n",
       "      <th>fare</th>\n",
       "      <th>survived</th>\n",
       "    </tr>\n",
       "  </thead>\n",
       "  <tbody>\n",
       "    <tr>\n",
       "      <th>count</th>\n",
       "      <td>1309.000000</td>\n",
       "      <td>1046.000000</td>\n",
       "      <td>1309.000000</td>\n",
       "      <td>1309.000000</td>\n",
       "      <td>1308.000000</td>\n",
       "      <td>1309.000000</td>\n",
       "    </tr>\n",
       "    <tr>\n",
       "      <th>mean</th>\n",
       "      <td>655.000000</td>\n",
       "      <td>29.881135</td>\n",
       "      <td>0.498854</td>\n",
       "      <td>0.385027</td>\n",
       "      <td>33.295479</td>\n",
       "      <td>0.381971</td>\n",
       "    </tr>\n",
       "    <tr>\n",
       "      <th>std</th>\n",
       "      <td>378.020061</td>\n",
       "      <td>14.413500</td>\n",
       "      <td>1.041658</td>\n",
       "      <td>0.865560</td>\n",
       "      <td>51.758668</td>\n",
       "      <td>0.486055</td>\n",
       "    </tr>\n",
       "    <tr>\n",
       "      <th>min</th>\n",
       "      <td>1.000000</td>\n",
       "      <td>0.166700</td>\n",
       "      <td>0.000000</td>\n",
       "      <td>0.000000</td>\n",
       "      <td>0.000000</td>\n",
       "      <td>0.000000</td>\n",
       "    </tr>\n",
       "    <tr>\n",
       "      <th>25%</th>\n",
       "      <td>328.000000</td>\n",
       "      <td>21.000000</td>\n",
       "      <td>0.000000</td>\n",
       "      <td>0.000000</td>\n",
       "      <td>7.895800</td>\n",
       "      <td>0.000000</td>\n",
       "    </tr>\n",
       "    <tr>\n",
       "      <th>50%</th>\n",
       "      <td>655.000000</td>\n",
       "      <td>28.000000</td>\n",
       "      <td>0.000000</td>\n",
       "      <td>0.000000</td>\n",
       "      <td>14.454200</td>\n",
       "      <td>0.000000</td>\n",
       "    </tr>\n",
       "    <tr>\n",
       "      <th>75%</th>\n",
       "      <td>982.000000</td>\n",
       "      <td>39.000000</td>\n",
       "      <td>1.000000</td>\n",
       "      <td>0.000000</td>\n",
       "      <td>31.275000</td>\n",
       "      <td>1.000000</td>\n",
       "    </tr>\n",
       "    <tr>\n",
       "      <th>max</th>\n",
       "      <td>1309.000000</td>\n",
       "      <td>80.000000</td>\n",
       "      <td>8.000000</td>\n",
       "      <td>9.000000</td>\n",
       "      <td>512.329200</td>\n",
       "      <td>1.000000</td>\n",
       "    </tr>\n",
       "  </tbody>\n",
       "</table>\n",
       "</div>"
      ],
      "text/plain": [
       "       Passenger_Id          age        sibsp        parch         fare  \\\n",
       "count   1309.000000  1046.000000  1309.000000  1309.000000  1308.000000   \n",
       "mean     655.000000    29.881135     0.498854     0.385027    33.295479   \n",
       "std      378.020061    14.413500     1.041658     0.865560    51.758668   \n",
       "min        1.000000     0.166700     0.000000     0.000000     0.000000   \n",
       "25%      328.000000    21.000000     0.000000     0.000000     7.895800   \n",
       "50%      655.000000    28.000000     0.000000     0.000000    14.454200   \n",
       "75%      982.000000    39.000000     1.000000     0.000000    31.275000   \n",
       "max     1309.000000    80.000000     8.000000     9.000000   512.329200   \n",
       "\n",
       "          survived  \n",
       "count  1309.000000  \n",
       "mean      0.381971  \n",
       "std       0.486055  \n",
       "min       0.000000  \n",
       "25%       0.000000  \n",
       "50%       0.000000  \n",
       "75%       1.000000  \n",
       "max       1.000000  "
      ]
     },
     "execution_count": 6,
     "metadata": {},
     "output_type": "execute_result"
    }
   ],
   "source": [
    "df.describe()"
   ]
  },
  {
   "cell_type": "code",
   "execution_count": 96,
   "id": "38826e38-df53-4a32-b2ee-51289cf36cc3",
   "metadata": {},
   "outputs": [],
   "source": [
    "#df['cabin'].value_counts()"
   ]
  },
  {
   "cell_type": "code",
   "execution_count": null,
   "id": "0e11941e-c6b1-46aa-863e-cfd948475f4c",
   "metadata": {},
   "outputs": [],
   "source": []
  },
  {
   "cell_type": "code",
   "execution_count": 7,
   "id": "c450132b-9765-4332-90eb-9e4f24f8055e",
   "metadata": {},
   "outputs": [],
   "source": [
    "id_col = 'Passenger_Id'\n",
    "target_col = 'survived'\n",
    "#categorical_cols = ['pclass','sex','cabin']\n",
    "categorical_cols = ['pclass','sex']"
   ]
  },
  {
   "cell_type": "code",
   "execution_count": 8,
   "id": "77b4d9a3-8d4f-4b55-a204-43b3b0dfa648",
   "metadata": {},
   "outputs": [
    {
     "name": "stdout",
     "output_type": "stream",
     "text": [
      "<class 'deepchecks.tabular.dataset.Dataset'>\n"
     ]
    },
    {
     "data": {
      "text/html": [
       "<h4><b>Dataset Description</b></h4><div>\n",
       "<style scoped>\n",
       "    .dataframe tbody tr th:only-of-type {\n",
       "        vertical-align: middle;\n",
       "    }\n",
       "\n",
       "    .dataframe tbody tr th {\n",
       "        vertical-align: top;\n",
       "    }\n",
       "\n",
       "    .dataframe thead th {\n",
       "        text-align: right;\n",
       "    }\n",
       "</style>\n",
       "<table border=\"1\" class=\"dataframe\">\n",
       "  <thead>\n",
       "    <tr style=\"text-align: right;\">\n",
       "      <th style=\"min-width: 15px;\"></th>\n",
       "      <th style=\"min-width: 15px;\">Column</th>\n",
       "      <th style=\"min-width: 15px;\">DType</th>\n",
       "      <th style=\"min-width: 15px;\">Kind</th>\n",
       "      <th style=\"min-width: 15px;\">Additional Info</th>\n",
       "    </tr>\n",
       "  </thead>\n",
       "  <tbody>\n",
       "    <tr>\n",
       "      <th>0</th>\n",
       "      <td>Passenger_Id</td>\n",
       "      <td>integer</td>\n",
       "      <td>Index</td>\n",
       "      <td></td>\n",
       "    </tr>\n",
       "    <tr>\n",
       "      <th>1</th>\n",
       "      <td>survived</td>\n",
       "      <td>integer</td>\n",
       "      <td></td>\n",
       "      <td></td>\n",
       "    </tr>\n",
       "    <tr>\n",
       "      <th>2</th>\n",
       "      <td>pclass</td>\n",
       "      <td>string</td>\n",
       "      <td>Categorical Feature</td>\n",
       "      <td></td>\n",
       "    </tr>\n",
       "    <tr>\n",
       "      <th>3</th>\n",
       "      <td>sex</td>\n",
       "      <td>string</td>\n",
       "      <td>Categorical Feature</td>\n",
       "      <td></td>\n",
       "    </tr>\n",
       "    <tr>\n",
       "      <th>4</th>\n",
       "      <td>age</td>\n",
       "      <td>floating</td>\n",
       "      <td>Numerical Feature</td>\n",
       "      <td></td>\n",
       "    </tr>\n",
       "    <tr>\n",
       "      <th>5</th>\n",
       "      <td>sibsp</td>\n",
       "      <td>integer</td>\n",
       "      <td>Numerical Feature</td>\n",
       "      <td></td>\n",
       "    </tr>\n",
       "    <tr>\n",
       "      <th>6</th>\n",
       "      <td>parch</td>\n",
       "      <td>integer</td>\n",
       "      <td>Numerical Feature</td>\n",
       "      <td></td>\n",
       "    </tr>\n",
       "    <tr>\n",
       "      <th>7</th>\n",
       "      <td>fare</td>\n",
       "      <td>floating</td>\n",
       "      <td>Numerical Feature</td>\n",
       "      <td></td>\n",
       "    </tr>\n",
       "  </tbody>\n",
       "</table>\n",
       "</div><h4><b>Dataset Content</b></h4><div>\n",
       "<style scoped>\n",
       "    .dataframe tbody tr th:only-of-type {\n",
       "        vertical-align: middle;\n",
       "    }\n",
       "\n",
       "    .dataframe tbody tr th {\n",
       "        vertical-align: top;\n",
       "    }\n",
       "\n",
       "    .dataframe thead th {\n",
       "        text-align: right;\n",
       "    }\n",
       "</style>\n",
       "<table border=\"1\" class=\"dataframe\">\n",
       "  <thead>\n",
       "    <tr style=\"text-align: right;\">\n",
       "      <th style=\"min-width: 15px;\"></th>\n",
       "      <th style=\"min-width: 15px;\">Passenger_Id</th>\n",
       "      <th style=\"min-width: 15px;\">survived</th>\n",
       "      <th style=\"min-width: 15px;\">pclass</th>\n",
       "      <th style=\"min-width: 15px;\">sex</th>\n",
       "      <th style=\"min-width: 15px;\">age</th>\n",
       "      <th style=\"min-width: 15px;\">sibsp</th>\n",
       "      <th style=\"min-width: 15px;\">parch</th>\n",
       "      <th style=\"min-width: 15px;\">fare</th>\n",
       "    </tr>\n",
       "  </thead>\n",
       "  <tbody>\n",
       "    <tr>\n",
       "      <th>0</th>\n",
       "      <td>1</td>\n",
       "      <td>0</td>\n",
       "      <td>3rd</td>\n",
       "      <td>male</td>\n",
       "      <td>39.0</td>\n",
       "      <td>1</td>\n",
       "      <td>5</td>\n",
       "      <td>31.2750</td>\n",
       "    </tr>\n",
       "    <tr>\n",
       "      <th>1</th>\n",
       "      <td>2</td>\n",
       "      <td>1</td>\n",
       "      <td>3rd</td>\n",
       "      <td>female</td>\n",
       "      <td>15.0</td>\n",
       "      <td>0</td>\n",
       "      <td>0</td>\n",
       "      <td>8.0292</td>\n",
       "    </tr>\n",
       "    <tr>\n",
       "      <th>2</th>\n",
       "      <td>3</td>\n",
       "      <td>1</td>\n",
       "      <td>2nd</td>\n",
       "      <td>male</td>\n",
       "      <td>26.0</td>\n",
       "      <td>1</td>\n",
       "      <td>1</td>\n",
       "      <td>29.0000</td>\n",
       "    </tr>\n",
       "    <tr>\n",
       "      <th>3</th>\n",
       "      <td>4</td>\n",
       "      <td>0</td>\n",
       "      <td>3rd</td>\n",
       "      <td>male</td>\n",
       "      <td>23.0</td>\n",
       "      <td>0</td>\n",
       "      <td>0</td>\n",
       "      <td>7.8542</td>\n",
       "    </tr>\n",
       "    <tr>\n",
       "      <th>4</th>\n",
       "      <td>5</td>\n",
       "      <td>1</td>\n",
       "      <td>3rd</td>\n",
       "      <td>male</td>\n",
       "      <td>20.0</td>\n",
       "      <td>1</td>\n",
       "      <td>0</td>\n",
       "      <td>7.9250</td>\n",
       "    </tr>\n",
       "    <tr>\n",
       "      <th>...</th>\n",
       "      <td>...</td>\n",
       "      <td>...</td>\n",
       "      <td>...</td>\n",
       "      <td>...</td>\n",
       "      <td>...</td>\n",
       "      <td>...</td>\n",
       "      <td>...</td>\n",
       "      <td>...</td>\n",
       "    </tr>\n",
       "    <tr>\n",
       "      <th>1304</th>\n",
       "      <td>1305</td>\n",
       "      <td>0</td>\n",
       "      <td>2nd</td>\n",
       "      <td>male</td>\n",
       "      <td>26.0</td>\n",
       "      <td>0</td>\n",
       "      <td>0</td>\n",
       "      <td>13.0000</td>\n",
       "    </tr>\n",
       "    <tr>\n",
       "      <th>1305</th>\n",
       "      <td>1306</td>\n",
       "      <td>1</td>\n",
       "      <td>1st</td>\n",
       "      <td>female</td>\n",
       "      <td>64.0</td>\n",
       "      <td>0</td>\n",
       "      <td>2</td>\n",
       "      <td>83.1583</td>\n",
       "    </tr>\n",
       "    <tr>\n",
       "      <th>1306</th>\n",
       "      <td>1307</td>\n",
       "      <td>1</td>\n",
       "      <td>1st</td>\n",
       "      <td>female</td>\n",
       "      <td>39.0</td>\n",
       "      <td>1</td>\n",
       "      <td>0</td>\n",
       "      <td>55.9000</td>\n",
       "    </tr>\n",
       "    <tr>\n",
       "      <th>1307</th>\n",
       "      <td>1308</td>\n",
       "      <td>0</td>\n",
       "      <td>2nd</td>\n",
       "      <td>male</td>\n",
       "      <td>27.0</td>\n",
       "      <td>0</td>\n",
       "      <td>0</td>\n",
       "      <td>26.0000</td>\n",
       "    </tr>\n",
       "    <tr>\n",
       "      <th>1308</th>\n",
       "      <td>1309</td>\n",
       "      <td>0</td>\n",
       "      <td>3rd</td>\n",
       "      <td>female</td>\n",
       "      <td>41.0</td>\n",
       "      <td>0</td>\n",
       "      <td>2</td>\n",
       "      <td>20.2125</td>\n",
       "    </tr>\n",
       "  </tbody>\n",
       "</table>\n",
       "</div>"
      ]
     },
     "metadata": {},
     "output_type": "display_data"
    }
   ],
   "source": [
    "ds = Dataset(df,\n",
    "            label=target_col,\n",
    "            index_name=id_col,\n",
    "            cat_features=categorical_cols)\n",
    "print(type(ds))\n",
    "ds"
   ]
  },
  {
   "cell_type": "markdown",
   "id": "496a39b8-8302-4b0a-bfa2-5922594a5854",
   "metadata": {},
   "source": [
    "- Dataset Object: https://docs.deepchecks.com/stable/tabular/usage_guides/dataset_object.html"
   ]
  },
  {
   "cell_type": "code",
   "execution_count": 9,
   "id": "c7ad5a74-61f7-4bfd-884c-4b76ca466b5e",
   "metadata": {},
   "outputs": [
    {
     "data": {
      "text/html": [
       "\n",
       "    <style>\n",
       "        progress {\n",
       "            -webkit-appearance: none;\n",
       "            border: none;\n",
       "            border-radius: 3px;\n",
       "            width: 300px;\n",
       "            height: 20px;\n",
       "            vertical-align: middle;\n",
       "            margin-right: 10px;\n",
       "            background-color: aliceblue;\n",
       "        }\n",
       "        progress::-webkit-progress-bar {\n",
       "            border-radius: 3px;\n",
       "            background-color: aliceblue;\n",
       "        }\n",
       "        progress::-webkit-progress-value {\n",
       "            background-color: #9d60fb;\n",
       "        }\n",
       "        progress::-moz-progress-bar {\n",
       "            background-color: #9d60fb;\n",
       "        }\n",
       "    </style>\n",
       "    "
      ]
     },
     "metadata": {},
     "output_type": "display_data"
    },
    {
     "data": {
      "text/html": []
     },
     "metadata": {},
     "output_type": "display_data"
    }
   ],
   "source": [
    "integ_suite = data_integrity()\n",
    "suite_result = integ_suite.run(ds)"
   ]
  },
  {
   "cell_type": "code",
   "execution_count": 10,
   "id": "a8cc69f5-d786-474d-bb6f-96d15515d2a3",
   "metadata": {},
   "outputs": [
    {
     "data": {
      "application/vnd.jupyter.widget-view+json": {
       "model_id": "e904bf7326794f4db06dfa268d850c65",
       "version_major": 2,
       "version_minor": 0
      },
      "text/plain": [
       "Accordion(children=(VBox(children=(HTML(value='\\n<h1 id=\"summary_6W0V00IFKY0D9CISSG89CRW1A\">Data Integrity Sui…"
      ]
     },
     "metadata": {},
     "output_type": "display_data"
    }
   ],
   "source": [
    "suite_result.show()   # jupyterlabでの表示Error"
   ]
  },
  {
   "cell_type": "code",
   "execution_count": 11,
   "id": "dfd72fe2-31fb-42d9-b0f1-0df72bf81dce",
   "metadata": {},
   "outputs": [
    {
     "data": {
      "text/plain": [
       "'DataIntegrity_output.html'"
      ]
     },
     "execution_count": 11,
     "metadata": {},
     "output_type": "execute_result"
    }
   ],
   "source": [
    "# 結果をhtml保存\n",
    "suite_result.save_as_html('DataIntegrity_output.html')"
   ]
  },
  {
   "cell_type": "code",
   "execution_count": 102,
   "id": "74e358a9-721a-48ad-9383-a80b3713a234",
   "metadata": {},
   "outputs": [
    {
     "name": "stdout",
     "output_type": "stream",
     "text": [
      "DataIntegrity_output (1).html\n",
      "DataIntegrity_output (2).html\n",
      "DataIntegrity_output.html\n"
     ]
    }
   ],
   "source": [
    "!ls | grep html"
   ]
  },
  {
   "cell_type": "code",
   "execution_count": 103,
   "id": "e49a271a-010f-4215-89fe-64a1ab8ee43a",
   "metadata": {},
   "outputs": [
    {
     "name": "stdout",
     "output_type": "stream",
     "text": [
      "{\"name\": \"Data Integrity Suite\", \"results\": [{\"type\": \"CheckResult\", \"check\": {\"name\": \"Conflicting Labels\", \"params\": {\"columns\": null, \"ignore_columns\": null, \"n_to_show\": 5, \"n_samples\": 10000000, \"random_state\": 42}, \"summary\": \"Find samples which have the exact same features' values but different labels. <a href=\\\"https://docs.deepchecks.com/0.18/tabular/auto_checks/data_integrity/plot_conflicting_labels.html?utm_source=display_output&utm_medium=referral&utm_campaign=check_link\\\" target=\\\"_\n"
     ]
    }
   ],
   "source": [
    "# 結果をjsonで取得する場合\n",
    "str_json = suite_result.to_json()\n",
    "print(str_json[:500])\n",
    "#json.loads(str_json)  # dict形式"
   ]
  },
  {
   "cell_type": "code",
   "execution_count": 104,
   "id": "f4f2772e-c866-453d-8491-6405a1070448",
   "metadata": {},
   "outputs": [
    {
     "name": "stdout",
     "output_type": "stream",
     "text": [
      ">>> Not Pass Test #0\n",
      "Conflicting Labels: {'percent_of_conflicting_samples': 0.09549274255156608, 'samples_indices': [[1057, 482, 936, 54, 1135, 215, 213, 557, 903, 652, 214, 500, 836, 750, 1015, 784, 854, 863, 337], [322, 514, 916, 846, 575, 212, 851, 782, 301, 37, 406, 1130, 860], [239, 1000, 736, 292, 643, 593, 338, 726, 586, 262], [598, 802, 815, 20], [1074, 922, 980, 64], [899, 99, 992, 1196], [490, 55, 1022, 698], [744, 394, 1165, 662], [493, 591, 217, 441], [289, 235, 993], [1049, 76, 934], [1201, 532, 421], [989, 1138, 776], [339, 25, 403], [978, 868, 459], [333, 1177, 149], [382, 84], [892, 334], [221, 1162], [625, 517], [634, 595], [193, 961], [544, 1303], [644, 136], [533, 173], [318, 669], [694, 412], [48, 344], [346, 685], [519, 1151], [361, 594], [371, 1097], [153, 1181], [23, 714], [911, 238]]}\n",
      ">>> Not Pass Test #1\n",
      "Identifier Label Correlation: {'Passenger_Id': 0.04997773233562442}\n"
     ]
    }
   ],
   "source": [
    "for i, res in enumerate(suite_result.get_not_passed_checks()):\n",
    "    print('>>> Not Pass Test #{}'.format(i))    \n",
    "    print(res)"
   ]
  },
  {
   "cell_type": "code",
   "execution_count": 105,
   "id": "7d00eb70-6efb-4d1c-bbf9-143c4a7bf0a3",
   "metadata": {},
   "outputs": [
    {
     "data": {
      "text/plain": [
       "deepchecks.core.check_result.CheckResult"
      ]
     },
     "execution_count": 105,
     "metadata": {},
     "output_type": "execute_result"
    }
   ],
   "source": [
    "type(suite_result.get_not_passed_checks()[0])"
   ]
  },
  {
   "cell_type": "code",
   "execution_count": null,
   "id": "0f902ffc-4454-4b7e-b67e-b621ae5113c1",
   "metadata": {},
   "outputs": [],
   "source": []
  },
  {
   "cell_type": "markdown",
   "id": "209c7567-afae-4bb5-b1f3-e415b4977416",
   "metadata": {},
   "source": [
    "### Conflicting Labels\n",
    "https://docs.deepchecks.com/0.18/tabular/auto_checks/data_integrity/plot_conflicting_labels.html\n",
    "- 同じ特徴量を持つが、targetが混在している"
   ]
  },
  {
   "cell_type": "code",
   "execution_count": 106,
   "id": "e837c95c-3a82-4d94-8b3c-648b733475d9",
   "metadata": {},
   "outputs": [
    {
     "data": {
      "text/html": [
       "<div>\n",
       "<style scoped>\n",
       "    .dataframe tbody tr th:only-of-type {\n",
       "        vertical-align: middle;\n",
       "    }\n",
       "\n",
       "    .dataframe tbody tr th {\n",
       "        vertical-align: top;\n",
       "    }\n",
       "\n",
       "    .dataframe thead th {\n",
       "        text-align: right;\n",
       "    }\n",
       "</style>\n",
       "<table border=\"1\" class=\"dataframe\">\n",
       "  <thead>\n",
       "    <tr style=\"text-align: right;\">\n",
       "      <th></th>\n",
       "      <th>Passenger_Id</th>\n",
       "      <th>pclass</th>\n",
       "      <th>sex</th>\n",
       "      <th>age</th>\n",
       "      <th>sibsp</th>\n",
       "      <th>parch</th>\n",
       "      <th>fare</th>\n",
       "      <th>survived</th>\n",
       "    </tr>\n",
       "  </thead>\n",
       "  <tbody>\n",
       "    <tr>\n",
       "      <th>1057</th>\n",
       "      <td>1058</td>\n",
       "      <td>3rd</td>\n",
       "      <td>male</td>\n",
       "      <td>NaN</td>\n",
       "      <td>0</td>\n",
       "      <td>0</td>\n",
       "      <td>7.75</td>\n",
       "      <td>0</td>\n",
       "    </tr>\n",
       "    <tr>\n",
       "      <th>482</th>\n",
       "      <td>483</td>\n",
       "      <td>3rd</td>\n",
       "      <td>male</td>\n",
       "      <td>NaN</td>\n",
       "      <td>0</td>\n",
       "      <td>0</td>\n",
       "      <td>7.75</td>\n",
       "      <td>0</td>\n",
       "    </tr>\n",
       "    <tr>\n",
       "      <th>936</th>\n",
       "      <td>937</td>\n",
       "      <td>3rd</td>\n",
       "      <td>male</td>\n",
       "      <td>NaN</td>\n",
       "      <td>0</td>\n",
       "      <td>0</td>\n",
       "      <td>7.75</td>\n",
       "      <td>0</td>\n",
       "    </tr>\n",
       "    <tr>\n",
       "      <th>54</th>\n",
       "      <td>55</td>\n",
       "      <td>3rd</td>\n",
       "      <td>male</td>\n",
       "      <td>NaN</td>\n",
       "      <td>0</td>\n",
       "      <td>0</td>\n",
       "      <td>7.75</td>\n",
       "      <td>0</td>\n",
       "    </tr>\n",
       "    <tr>\n",
       "      <th>1135</th>\n",
       "      <td>1136</td>\n",
       "      <td>3rd</td>\n",
       "      <td>male</td>\n",
       "      <td>NaN</td>\n",
       "      <td>0</td>\n",
       "      <td>0</td>\n",
       "      <td>7.75</td>\n",
       "      <td>0</td>\n",
       "    </tr>\n",
       "    <tr>\n",
       "      <th>215</th>\n",
       "      <td>216</td>\n",
       "      <td>3rd</td>\n",
       "      <td>male</td>\n",
       "      <td>NaN</td>\n",
       "      <td>0</td>\n",
       "      <td>0</td>\n",
       "      <td>7.75</td>\n",
       "      <td>1</td>\n",
       "    </tr>\n",
       "    <tr>\n",
       "      <th>213</th>\n",
       "      <td>214</td>\n",
       "      <td>3rd</td>\n",
       "      <td>male</td>\n",
       "      <td>NaN</td>\n",
       "      <td>0</td>\n",
       "      <td>0</td>\n",
       "      <td>7.75</td>\n",
       "      <td>0</td>\n",
       "    </tr>\n",
       "    <tr>\n",
       "      <th>557</th>\n",
       "      <td>558</td>\n",
       "      <td>3rd</td>\n",
       "      <td>male</td>\n",
       "      <td>NaN</td>\n",
       "      <td>0</td>\n",
       "      <td>0</td>\n",
       "      <td>7.75</td>\n",
       "      <td>0</td>\n",
       "    </tr>\n",
       "    <tr>\n",
       "      <th>903</th>\n",
       "      <td>904</td>\n",
       "      <td>3rd</td>\n",
       "      <td>male</td>\n",
       "      <td>NaN</td>\n",
       "      <td>0</td>\n",
       "      <td>0</td>\n",
       "      <td>7.75</td>\n",
       "      <td>1</td>\n",
       "    </tr>\n",
       "    <tr>\n",
       "      <th>652</th>\n",
       "      <td>653</td>\n",
       "      <td>3rd</td>\n",
       "      <td>male</td>\n",
       "      <td>NaN</td>\n",
       "      <td>0</td>\n",
       "      <td>0</td>\n",
       "      <td>7.75</td>\n",
       "      <td>0</td>\n",
       "    </tr>\n",
       "    <tr>\n",
       "      <th>500</th>\n",
       "      <td>501</td>\n",
       "      <td>3rd</td>\n",
       "      <td>male</td>\n",
       "      <td>NaN</td>\n",
       "      <td>0</td>\n",
       "      <td>0</td>\n",
       "      <td>7.75</td>\n",
       "      <td>0</td>\n",
       "    </tr>\n",
       "    <tr>\n",
       "      <th>836</th>\n",
       "      <td>837</td>\n",
       "      <td>3rd</td>\n",
       "      <td>male</td>\n",
       "      <td>NaN</td>\n",
       "      <td>0</td>\n",
       "      <td>0</td>\n",
       "      <td>7.75</td>\n",
       "      <td>1</td>\n",
       "    </tr>\n",
       "    <tr>\n",
       "      <th>750</th>\n",
       "      <td>751</td>\n",
       "      <td>3rd</td>\n",
       "      <td>male</td>\n",
       "      <td>NaN</td>\n",
       "      <td>0</td>\n",
       "      <td>0</td>\n",
       "      <td>7.75</td>\n",
       "      <td>0</td>\n",
       "    </tr>\n",
       "    <tr>\n",
       "      <th>1015</th>\n",
       "      <td>1016</td>\n",
       "      <td>3rd</td>\n",
       "      <td>male</td>\n",
       "      <td>NaN</td>\n",
       "      <td>0</td>\n",
       "      <td>0</td>\n",
       "      <td>7.75</td>\n",
       "      <td>0</td>\n",
       "    </tr>\n",
       "    <tr>\n",
       "      <th>784</th>\n",
       "      <td>785</td>\n",
       "      <td>3rd</td>\n",
       "      <td>male</td>\n",
       "      <td>NaN</td>\n",
       "      <td>0</td>\n",
       "      <td>0</td>\n",
       "      <td>7.75</td>\n",
       "      <td>1</td>\n",
       "    </tr>\n",
       "    <tr>\n",
       "      <th>854</th>\n",
       "      <td>855</td>\n",
       "      <td>3rd</td>\n",
       "      <td>male</td>\n",
       "      <td>NaN</td>\n",
       "      <td>0</td>\n",
       "      <td>0</td>\n",
       "      <td>7.75</td>\n",
       "      <td>0</td>\n",
       "    </tr>\n",
       "    <tr>\n",
       "      <th>863</th>\n",
       "      <td>864</td>\n",
       "      <td>3rd</td>\n",
       "      <td>male</td>\n",
       "      <td>NaN</td>\n",
       "      <td>0</td>\n",
       "      <td>0</td>\n",
       "      <td>7.75</td>\n",
       "      <td>0</td>\n",
       "    </tr>\n",
       "    <tr>\n",
       "      <th>337</th>\n",
       "      <td>338</td>\n",
       "      <td>3rd</td>\n",
       "      <td>male</td>\n",
       "      <td>NaN</td>\n",
       "      <td>0</td>\n",
       "      <td>0</td>\n",
       "      <td>7.75</td>\n",
       "      <td>0</td>\n",
       "    </tr>\n",
       "  </tbody>\n",
       "</table>\n",
       "</div>"
      ],
      "text/plain": [
       "      Passenger_Id pclass   sex  age  sibsp  parch  fare  survived\n",
       "1057          1058    3rd  male  NaN      0      0  7.75         0\n",
       "482            483    3rd  male  NaN      0      0  7.75         0\n",
       "936            937    3rd  male  NaN      0      0  7.75         0\n",
       "54              55    3rd  male  NaN      0      0  7.75         0\n",
       "1135          1136    3rd  male  NaN      0      0  7.75         0\n",
       "215            216    3rd  male  NaN      0      0  7.75         1\n",
       "213            214    3rd  male  NaN      0      0  7.75         0\n",
       "557            558    3rd  male  NaN      0      0  7.75         0\n",
       "903            904    3rd  male  NaN      0      0  7.75         1\n",
       "652            653    3rd  male  NaN      0      0  7.75         0\n",
       "500            501    3rd  male  NaN      0      0  7.75         0\n",
       "836            837    3rd  male  NaN      0      0  7.75         1\n",
       "750            751    3rd  male  NaN      0      0  7.75         0\n",
       "1015          1016    3rd  male  NaN      0      0  7.75         0\n",
       "784            785    3rd  male  NaN      0      0  7.75         1\n",
       "854            855    3rd  male  NaN      0      0  7.75         0\n",
       "863            864    3rd  male  NaN      0      0  7.75         0\n",
       "337            338    3rd  male  NaN      0      0  7.75         0"
      ]
     },
     "execution_count": 106,
     "metadata": {},
     "output_type": "execute_result"
    }
   ],
   "source": [
    "df.loc[[1057, 482, 936, 54, 1135, 215, 213, 557, 903, 652, 500, 836, 750, 1015, 784, 854, 863, 337]]"
   ]
  },
  {
   "cell_type": "markdown",
   "id": "3becb281-60f0-4a81-9aeb-e9d2ed98cfbc",
   "metadata": {},
   "source": [
    "### Identifier Label Correlation\n",
    "https://docs.deepchecks.com/0.18/tabular/auto_checks/data_integrity/plot_identifier_label_correlation.html\n",
    "- IDカラムがTargetの予測に貢献できる可能性がある\n",
    "- PSP(Predictive Power Score) Score: https://docs.deepchecks.com/0.18/tabular/auto_checks/train_test_validation/plot_feature_label_correlation_change.html#how-is-the-predictive-power-score-pps-calculated"
   ]
  },
  {
   "cell_type": "code",
   "execution_count": 12,
   "id": "3eb9a118-da88-4822-812d-af95f6288489",
   "metadata": {},
   "outputs": [
    {
     "data": {
      "text/plain": [
       "Index(['Passenger_Id', 'pclass', 'sex', 'age', 'sibsp', 'parch', 'fare',\n",
       "       'survived'],\n",
       "      dtype='object')"
      ]
     },
     "execution_count": 12,
     "metadata": {},
     "output_type": "execute_result"
    }
   ],
   "source": [
    "df.columns"
   ]
  },
  {
   "cell_type": "code",
   "execution_count": 14,
   "id": "205812a8-93ed-414f-a46b-eb3e92c57a0b",
   "metadata": {},
   "outputs": [
    {
     "data": {
      "text/plain": [
       "0.022993374920778367"
      ]
     },
     "execution_count": 14,
     "metadata": {},
     "output_type": "execute_result"
    }
   ],
   "source": [
    "df['Passenger_Id'].corr(df['survived'])"
   ]
  },
  {
   "cell_type": "code",
   "execution_count": 15,
   "id": "8649b15b-8b77-4820-83d6-1b17b76159ea",
   "metadata": {},
   "outputs": [
    {
     "data": {
      "text/plain": [
       "<Axes: xlabel='Passenger_Id', ylabel='survived'>"
      ]
     },
     "execution_count": 15,
     "metadata": {},
     "output_type": "execute_result"
    },
    {
     "data": {
      "image/png": "[encoded data removed]",
      "text/plain": [
       "<Figure size 640x480 with 1 Axes>"
      ]
     },
     "metadata": {},
     "output_type": "display_data"
    }
   ],
   "source": [
    "df.plot.scatter(x='Passenger_Id', y='survived')"
   ]
  },
  {
   "cell_type": "code",
   "execution_count": 16,
   "id": "57e7da89-dac6-41c8-92b3-e3d28c7924fa",
   "metadata": {},
   "outputs": [
    {
     "data": {
      "text/plain": [
       "survived\n",
       "0    648.169345\n",
       "1    666.052000\n",
       "Name: Passenger_Id, dtype: float64"
      ]
     },
     "execution_count": 16,
     "metadata": {},
     "output_type": "execute_result"
    }
   ],
   "source": [
    "df.groupby('survived')['Passenger_Id'].mean()"
   ]
  },
  {
   "cell_type": "code",
   "execution_count": null,
   "id": "b42594f4-741e-455a-9dd9-89d94c1684f8",
   "metadata": {},
   "outputs": [],
   "source": []
  }
 ],
 "metadata": {
  "kernelspec": {
   "display_name": "Python 3 (ipykernel)",
   "language": "python",
   "name": "python3"
  },
  "language_info": {
   "codemirror_mode": {
    "name": "ipython",
    "version": 3
   },
   "file_extension": ".py",
   "mimetype": "text/x-python",
   "name": "python",
   "nbconvert_exporter": "python",
   "pygments_lexer": "ipython3",
   "version": "3.10.14"
  }
 },
 "nbformat": 4,
 "nbformat_minor": 5
}
