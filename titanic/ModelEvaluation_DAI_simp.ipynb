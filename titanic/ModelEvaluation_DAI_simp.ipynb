{
 "cells": [
  {
   "cell_type": "markdown",
   "id": "6de8ec15-b06e-4c80-9a8d-170a539a09da",
   "metadata": {},
   "source": [
    "# Model Evaluation\n",
    "- Using Pre-computed Predictions: https://docs.deepchecks.com/stable/tabular/usage_guides/supported_models.html#using-pre-computed-predictions"
   ]
  },
  {
   "cell_type": "code",
   "execution_count": 16,
   "id": "a1876baf-1bda-4749-9684-fb1384c45a97",
   "metadata": {},
   "outputs": [],
   "source": [
    "import pandas as pd\n",
    "import numpy as np\n",
    "from sklearn.metrics import log_loss, roc_auc_score\n",
    "from deepchecks.tabular import Dataset\n",
    "from deepchecks.tabular.suites import model_evaluation"
   ]
  },
  {
   "cell_type": "code",
   "execution_count": 2,
   "id": "b5b167c4-2b42-4955-b4cc-556e179d540c",
   "metadata": {},
   "outputs": [
    {
     "name": "stdout",
     "output_type": "stream",
     "text": [
      "\u001b[34mdefault_model\u001b[m\u001b[m \u001b[34msimple_model\u001b[m\u001b[m\n"
     ]
    }
   ],
   "source": [
    "!ls DAI_predict"
   ]
  },
  {
   "cell_type": "code",
   "execution_count": 3,
   "id": "67438cbd-8692-4f4d-86b3-cc224230d8ce",
   "metadata": {},
   "outputs": [
    {
     "name": "stdout",
     "output_type": "stream",
     "text": [
      "data---original-feature-importance.csv\n",
      "h2oai_experiment_simple_model_custom_dataset_TitanicData2_dcTest_csv_predictions.csv\n",
      "h2oai_experiment_simple_model_custom_dataset_TitanicData2_dcTrain_csv_predictions.csv\n"
     ]
    }
   ],
   "source": [
    "!ls DAI_predict/simple_model"
   ]
  },
  {
   "cell_type": "code",
   "execution_count": 4,
   "id": "618be089-04b2-4d4d-adc0-112c2afaafac",
   "metadata": {},
   "outputs": [
    {
     "data": {
      "text/plain": [
       "((1047, 11), (262, 11))"
      ]
     },
     "execution_count": 4,
     "metadata": {},
     "output_type": "execute_result"
    }
   ],
   "source": [
    "df_train = pd.read_csv('DAI_predict/simple_model/h2oai_experiment_simple_model_custom_dataset_TitanicData2_dcTrain_csv_predictions.csv')\n",
    "df_test = pd.read_csv('DAI_predict/simple_model/h2oai_experiment_simple_model_custom_dataset_TitanicData2_dcTest_csv_predictions.csv')\n",
    "df_train.shape, df_test.shape"
   ]
  },
  {
   "cell_type": "code",
   "execution_count": 5,
   "id": "345bc2d4-5650-47c6-9b4b-d3b7e726774b",
   "metadata": {},
   "outputs": [
    {
     "data": {
      "text/html": [
       "<div>\n",
       "<style scoped>\n",
       "    .dataframe tbody tr th:only-of-type {\n",
       "        vertical-align: middle;\n",
       "    }\n",
       "\n",
       "    .dataframe tbody tr th {\n",
       "        vertical-align: top;\n",
       "    }\n",
       "\n",
       "    .dataframe thead th {\n",
       "        text-align: right;\n",
       "    }\n",
       "</style>\n",
       "<table border=\"1\" class=\"dataframe\">\n",
       "  <thead>\n",
       "    <tr style=\"text-align: right;\">\n",
       "      <th></th>\n",
       "      <th>Passenger_Id</th>\n",
       "      <th>pclass</th>\n",
       "      <th>sex</th>\n",
       "      <th>age</th>\n",
       "      <th>sibsp</th>\n",
       "      <th>parch</th>\n",
       "      <th>fare</th>\n",
       "      <th>survived</th>\n",
       "      <th>survived.0</th>\n",
       "      <th>survived.1</th>\n",
       "      <th>survived.predicted(th=0.40031)</th>\n",
       "    </tr>\n",
       "  </thead>\n",
       "  <tbody>\n",
       "    <tr>\n",
       "      <th>0</th>\n",
       "      <td>648</td>\n",
       "      <td>3rd</td>\n",
       "      <td>female</td>\n",
       "      <td>22.0</td>\n",
       "      <td>0</td>\n",
       "      <td>0</td>\n",
       "      <td>7.7500</td>\n",
       "      <td>1</td>\n",
       "      <td>0.397761</td>\n",
       "      <td>0.602239</td>\n",
       "      <td>1</td>\n",
       "    </tr>\n",
       "    <tr>\n",
       "      <th>1</th>\n",
       "      <td>391</td>\n",
       "      <td>3rd</td>\n",
       "      <td>male</td>\n",
       "      <td>16.0</td>\n",
       "      <td>1</td>\n",
       "      <td>3</td>\n",
       "      <td>34.3750</td>\n",
       "      <td>0</td>\n",
       "      <td>0.874194</td>\n",
       "      <td>0.125806</td>\n",
       "      <td>0</td>\n",
       "    </tr>\n",
       "    <tr>\n",
       "      <th>2</th>\n",
       "      <td>351</td>\n",
       "      <td>1st</td>\n",
       "      <td>female</td>\n",
       "      <td>49.0</td>\n",
       "      <td>1</td>\n",
       "      <td>0</td>\n",
       "      <td>76.7292</td>\n",
       "      <td>1</td>\n",
       "      <td>0.140861</td>\n",
       "      <td>0.859139</td>\n",
       "      <td>1</td>\n",
       "    </tr>\n",
       "    <tr>\n",
       "      <th>3</th>\n",
       "      <td>1163</td>\n",
       "      <td>3rd</td>\n",
       "      <td>female</td>\n",
       "      <td>24.0</td>\n",
       "      <td>0</td>\n",
       "      <td>0</td>\n",
       "      <td>7.7500</td>\n",
       "      <td>0</td>\n",
       "      <td>0.397761</td>\n",
       "      <td>0.602239</td>\n",
       "      <td>1</td>\n",
       "    </tr>\n",
       "    <tr>\n",
       "      <th>4</th>\n",
       "      <td>105</td>\n",
       "      <td>3rd</td>\n",
       "      <td>female</td>\n",
       "      <td>18.0</td>\n",
       "      <td>0</td>\n",
       "      <td>0</td>\n",
       "      <td>9.8417</td>\n",
       "      <td>1</td>\n",
       "      <td>0.397761</td>\n",
       "      <td>0.602239</td>\n",
       "      <td>1</td>\n",
       "    </tr>\n",
       "  </tbody>\n",
       "</table>\n",
       "</div>"
      ],
      "text/plain": [
       "   Passenger_Id pclass     sex   age  sibsp  parch     fare  survived  \\\n",
       "0           648    3rd  female  22.0      0      0   7.7500         1   \n",
       "1           391    3rd    male  16.0      1      3  34.3750         0   \n",
       "2           351    1st  female  49.0      1      0  76.7292         1   \n",
       "3          1163    3rd  female  24.0      0      0   7.7500         0   \n",
       "4           105    3rd  female  18.0      0      0   9.8417         1   \n",
       "\n",
       "   survived.0  survived.1  survived.predicted(th=0.40031)  \n",
       "0    0.397761    0.602239                               1  \n",
       "1    0.874194    0.125806                               0  \n",
       "2    0.140861    0.859139                               1  \n",
       "3    0.397761    0.602239                               1  \n",
       "4    0.397761    0.602239                               1  "
      ]
     },
     "execution_count": 5,
     "metadata": {},
     "output_type": "execute_result"
    }
   ],
   "source": [
    "df_train.head()"
   ]
  },
  {
   "cell_type": "code",
   "execution_count": 6,
   "id": "979283b5-760f-4467-9f8d-2a07ef5fbc66",
   "metadata": {},
   "outputs": [
    {
     "data": {
      "text/html": [
       "<div>\n",
       "<style scoped>\n",
       "    .dataframe tbody tr th:only-of-type {\n",
       "        vertical-align: middle;\n",
       "    }\n",
       "\n",
       "    .dataframe tbody tr th {\n",
       "        vertical-align: top;\n",
       "    }\n",
       "\n",
       "    .dataframe thead th {\n",
       "        text-align: right;\n",
       "    }\n",
       "</style>\n",
       "<table border=\"1\" class=\"dataframe\">\n",
       "  <thead>\n",
       "    <tr style=\"text-align: right;\">\n",
       "      <th></th>\n",
       "      <th>Passenger_Id</th>\n",
       "      <th>pclass</th>\n",
       "      <th>sex</th>\n",
       "      <th>age</th>\n",
       "      <th>sibsp</th>\n",
       "      <th>parch</th>\n",
       "      <th>fare</th>\n",
       "      <th>survived</th>\n",
       "      <th>survived.0</th>\n",
       "      <th>survived.1</th>\n",
       "      <th>survived.predicted(th=0.40031)</th>\n",
       "    </tr>\n",
       "  </thead>\n",
       "  <tbody>\n",
       "    <tr>\n",
       "      <th>0</th>\n",
       "      <td>1298</td>\n",
       "      <td>1st</td>\n",
       "      <td>male</td>\n",
       "      <td>17.0</td>\n",
       "      <td>0</td>\n",
       "      <td>2</td>\n",
       "      <td>110.8833</td>\n",
       "      <td>1</td>\n",
       "      <td>0.528816</td>\n",
       "      <td>0.471184</td>\n",
       "      <td>1</td>\n",
       "    </tr>\n",
       "    <tr>\n",
       "      <th>1</th>\n",
       "      <td>575</td>\n",
       "      <td>1st</td>\n",
       "      <td>female</td>\n",
       "      <td>45.0</td>\n",
       "      <td>0</td>\n",
       "      <td>1</td>\n",
       "      <td>59.4000</td>\n",
       "      <td>1</td>\n",
       "      <td>0.056927</td>\n",
       "      <td>0.943073</td>\n",
       "      <td>1</td>\n",
       "    </tr>\n",
       "    <tr>\n",
       "      <th>2</th>\n",
       "      <td>328</td>\n",
       "      <td>3rd</td>\n",
       "      <td>male</td>\n",
       "      <td>20.0</td>\n",
       "      <td>0</td>\n",
       "      <td>0</td>\n",
       "      <td>7.8542</td>\n",
       "      <td>0</td>\n",
       "      <td>0.883736</td>\n",
       "      <td>0.116264</td>\n",
       "      <td>0</td>\n",
       "    </tr>\n",
       "    <tr>\n",
       "      <th>3</th>\n",
       "      <td>408</td>\n",
       "      <td>3rd</td>\n",
       "      <td>male</td>\n",
       "      <td>25.0</td>\n",
       "      <td>0</td>\n",
       "      <td>0</td>\n",
       "      <td>7.0500</td>\n",
       "      <td>0</td>\n",
       "      <td>0.883736</td>\n",
       "      <td>0.116264</td>\n",
       "      <td>0</td>\n",
       "    </tr>\n",
       "    <tr>\n",
       "      <th>4</th>\n",
       "      <td>844</td>\n",
       "      <td>1st</td>\n",
       "      <td>male</td>\n",
       "      <td>NaN</td>\n",
       "      <td>0</td>\n",
       "      <td>0</td>\n",
       "      <td>35.5000</td>\n",
       "      <td>1</td>\n",
       "      <td>0.636392</td>\n",
       "      <td>0.363608</td>\n",
       "      <td>0</td>\n",
       "    </tr>\n",
       "  </tbody>\n",
       "</table>\n",
       "</div>"
      ],
      "text/plain": [
       "   Passenger_Id pclass     sex   age  sibsp  parch      fare  survived  \\\n",
       "0          1298    1st    male  17.0      0      2  110.8833         1   \n",
       "1           575    1st  female  45.0      0      1   59.4000         1   \n",
       "2           328    3rd    male  20.0      0      0    7.8542         0   \n",
       "3           408    3rd    male  25.0      0      0    7.0500         0   \n",
       "4           844    1st    male   NaN      0      0   35.5000         1   \n",
       "\n",
       "   survived.0  survived.1  survived.predicted(th=0.40031)  \n",
       "0    0.528816    0.471184                               1  \n",
       "1    0.056927    0.943073                               1  \n",
       "2    0.883736    0.116264                               0  \n",
       "3    0.883736    0.116264                               0  \n",
       "4    0.636392    0.363608                               0  "
      ]
     },
     "execution_count": 6,
     "metadata": {},
     "output_type": "execute_result"
    }
   ],
   "source": [
    "df_test.head()"
   ]
  },
  {
   "cell_type": "code",
   "execution_count": 18,
   "id": "c8447e95-3a3b-4062-8db1-d5430e340c8b",
   "metadata": {},
   "outputs": [
    {
     "data": {
      "text/html": [
       "<div>\n",
       "<style scoped>\n",
       "    .dataframe tbody tr th:only-of-type {\n",
       "        vertical-align: middle;\n",
       "    }\n",
       "\n",
       "    .dataframe tbody tr th {\n",
       "        vertical-align: top;\n",
       "    }\n",
       "\n",
       "    .dataframe thead th {\n",
       "        text-align: right;\n",
       "    }\n",
       "</style>\n",
       "<table border=\"1\" class=\"dataframe\">\n",
       "  <thead>\n",
       "    <tr style=\"text-align: right;\">\n",
       "      <th></th>\n",
       "      <th>data</th>\n",
       "      <th>Logloss</th>\n",
       "      <th>AUC of ROC</th>\n",
       "    </tr>\n",
       "  </thead>\n",
       "  <tbody>\n",
       "    <tr>\n",
       "      <th>0</th>\n",
       "      <td>Train</td>\n",
       "      <td>0.455065</td>\n",
       "      <td>0.843460</td>\n",
       "    </tr>\n",
       "    <tr>\n",
       "      <th>1</th>\n",
       "      <td>Test</td>\n",
       "      <td>0.497275</td>\n",
       "      <td>0.814475</td>\n",
       "    </tr>\n",
       "  </tbody>\n",
       "</table>\n",
       "</div>"
      ],
      "text/plain": [
       "    data   Logloss  AUC of ROC\n",
       "0  Train  0.455065    0.843460\n",
       "1   Test  0.497275    0.814475"
      ]
     },
     "execution_count": 18,
     "metadata": {},
     "output_type": "execute_result"
    }
   ],
   "source": [
    "train_logloss = log_loss(df_train['survived'], df_train['survived.1'])\n",
    "test_logloss = log_loss(df_test['survived'], df_test['survived.1'])\n",
    "train_auc = roc_auc_score(df_train['survived'], df_train['survived.1'])\n",
    "test_auc = roc_auc_score(df_test['survived'], df_test['survived.1'])\n",
    "\n",
    "pd.DataFrame({'data':['Train', 'Test'], 'Logloss':[train_logloss, test_logloss], 'AUC of ROC':[train_auc, test_auc]})"
   ]
  },
  {
   "cell_type": "code",
   "execution_count": null,
   "id": "68bd3ee5-fac3-46b9-8fdc-36b91774446a",
   "metadata": {},
   "outputs": [],
   "source": []
  },
  {
   "cell_type": "code",
   "execution_count": 7,
   "id": "dc9b99c4-a93f-4fc4-9888-4eb2bd49db17",
   "metadata": {},
   "outputs": [
    {
     "data": {
      "text/html": [
       "<div>\n",
       "<style scoped>\n",
       "    .dataframe tbody tr th:only-of-type {\n",
       "        vertical-align: middle;\n",
       "    }\n",
       "\n",
       "    .dataframe tbody tr th {\n",
       "        vertical-align: top;\n",
       "    }\n",
       "\n",
       "    .dataframe thead th {\n",
       "        text-align: right;\n",
       "    }\n",
       "</style>\n",
       "<table border=\"1\" class=\"dataframe\">\n",
       "  <thead>\n",
       "    <tr style=\"text-align: right;\">\n",
       "      <th></th>\n",
       "      <th>label</th>\n",
       "      <th>value</th>\n",
       "    </tr>\n",
       "  </thead>\n",
       "  <tbody>\n",
       "    <tr>\n",
       "      <th>0</th>\n",
       "      <td>sex</td>\n",
       "      <td>1.000</td>\n",
       "    </tr>\n",
       "    <tr>\n",
       "      <th>1</th>\n",
       "      <td>pclass</td>\n",
       "      <td>0.527</td>\n",
       "    </tr>\n",
       "    <tr>\n",
       "      <th>2</th>\n",
       "      <td>parch</td>\n",
       "      <td>0.000</td>\n",
       "    </tr>\n",
       "  </tbody>\n",
       "</table>\n",
       "</div>"
      ],
      "text/plain": [
       "    label  value\n",
       "0     sex  1.000\n",
       "1  pclass  0.527\n",
       "2   parch  0.000"
      ]
     },
     "execution_count": 7,
     "metadata": {},
     "output_type": "execute_result"
    }
   ],
   "source": [
    "df_fi = pd.read_csv('DAI_predict/simple_model/data---original-feature-importance.csv', skiprows=2)\n",
    "df_fi"
   ]
  },
  {
   "cell_type": "code",
   "execution_count": 8,
   "id": "7485562e-2864-4a5d-8cd1-6d5dc6b5cf35",
   "metadata": {},
   "outputs": [],
   "source": [
    "# Utility functions to create data for Deepchecks\n",
    "def get_proba_array(df, proba_cols) -> np.array:\n",
    "    ''' Return predict probability of classification problem as numpy array '''\n",
    "    return df[proba_cols].to_numpy()\n",
    "\n",
    "def get_feature_inportance_series(df, features) -> pd.Series:\n",
    "    '''\n",
    "    Get DAI original feature importance dataframe and return the importance values with feture name index.\n",
    "    The order of feature (which is 'features') must be same as the order of training dataset features.\n",
    "    ''' \n",
    "    return pd.merge(pd.DataFrame({'label':features}), df, on='label', how='left').fillna(0.).set_index('label')['value']"
   ]
  },
  {
   "cell_type": "code",
   "execution_count": 9,
   "id": "88d65475-0de4-4c7c-b209-e9d3b4eea89d",
   "metadata": {},
   "outputs": [
    {
     "data": {
      "text/plain": [
       "((1047, 2), (262, 2))"
      ]
     },
     "execution_count": 9,
     "metadata": {},
     "output_type": "execute_result"
    }
   ],
   "source": [
    "train_proba = get_proba_array(df_train, ['survived.0','survived.1'])\n",
    "test_proba = get_proba_array(df_test, ['survived.0','survived.1'])\n",
    "train_proba.shape, test_proba.shape"
   ]
  },
  {
   "cell_type": "code",
   "execution_count": 10,
   "id": "036d4b75-0569-4223-8c1b-08c7cb123282",
   "metadata": {},
   "outputs": [
    {
     "data": {
      "text/plain": [
       "label\n",
       "pclass    0.527\n",
       "sex       1.000\n",
       "age       0.000\n",
       "sibsp     0.000\n",
       "parch     0.000\n",
       "fare      0.000\n",
       "Name: value, dtype: float64"
      ]
     },
     "execution_count": 10,
     "metadata": {},
     "output_type": "execute_result"
    }
   ],
   "source": [
    "features = ['pclass','sex','age','sibsp','parch','fare']\n",
    "fi = get_feature_inportance_series(df_fi, features)\n",
    "fi"
   ]
  },
  {
   "cell_type": "code",
   "execution_count": 11,
   "id": "bd7927d5-31d1-42df-b3f9-d861d14bc33f",
   "metadata": {},
   "outputs": [],
   "source": [
    "train_features = ['Passenger_Id','pclass','sex','age','sibsp','parch','fare','survived']\n",
    "\n",
    "ds_train = Dataset(df_train[train_features],\n",
    "                   label='survived',\n",
    "                   index_name='Passenger_Id',\n",
    "                   cat_features=['pclass','sex'])\n",
    "ds_test = Dataset(df_test[train_features],\n",
    "                  label='survived',\n",
    "                  index_name='Passenger_Id',\n",
    "                  cat_features=['pclass','sex'])"
   ]
  },
  {
   "cell_type": "code",
   "execution_count": 12,
   "id": "083ca213-3d1a-4b03-b543-0905ed7fafd1",
   "metadata": {},
   "outputs": [
    {
     "data": {
      "text/plain": [
       "deepchecks.tabular.dataset.Dataset"
      ]
     },
     "execution_count": 12,
     "metadata": {},
     "output_type": "execute_result"
    }
   ],
   "source": [
    "type(ds_train)"
   ]
  },
  {
   "cell_type": "code",
   "execution_count": 13,
   "id": "b6b2e473-69bc-4e06-bf85-22d0007ad0f0",
   "metadata": {},
   "outputs": [
    {
     "name": "stderr",
     "output_type": "stream",
     "text": [
      "/opt/anaconda3/envs/ML/lib/python3.10/site-packages/deepchecks/tabular/utils/feature_importance.py:454: UserWarning:\n",
      "\n",
      "feature_importance does not sum to 1. Normalizing to 1.\n",
      "\n",
      "deepchecks - WARNING - train and test datasets have common index - adding \"train\"/\"test\" prefixes. To avoid that provide datasets with no common indexes or pass the model object instead of the predictions.\n"
     ]
    },
    {
     "data": {
      "text/html": [
       "\n",
       "    <style>\n",
       "        progress {\n",
       "            -webkit-appearance: none;\n",
       "            border: none;\n",
       "            border-radius: 3px;\n",
       "            width: 300px;\n",
       "            height: 20px;\n",
       "            vertical-align: middle;\n",
       "            margin-right: 10px;\n",
       "            background-color: aliceblue;\n",
       "        }\n",
       "        progress::-webkit-progress-bar {\n",
       "            border-radius: 3px;\n",
       "            background-color: aliceblue;\n",
       "        }\n",
       "        progress::-webkit-progress-value {\n",
       "            background-color: #9d60fb;\n",
       "        }\n",
       "        progress::-moz-progress-bar {\n",
       "            background-color: #9d60fb;\n",
       "        }\n",
       "    </style>\n",
       "    "
      ]
     },
     "metadata": {},
     "output_type": "display_data"
    },
    {
     "data": {
      "text/html": []
     },
     "metadata": {},
     "output_type": "display_data"
    },
    {
     "name": "stderr",
     "output_type": "stream",
     "text": [
      "deepchecks - WARNING - Could not find model's classes, using the observed classes. In order to make sure the classes used by the model are inferred correctly, please use the model_classes argument\n"
     ]
    }
   ],
   "source": [
    "result = model_evaluation().run(train_dataset=ds_train,    # Train data (Dataset)\n",
    "                                test_dataset=ds_test,      # Test data (Dataset)\n",
    "                                feature_importance=fi,     # Feature importance (Series)\n",
    "                                y_proba_train=train_proba, # Train prediction probability (array)\n",
    "                                y_proba_test=test_proba)   # Test prediction probability (array)"
   ]
  },
  {
   "cell_type": "code",
   "execution_count": 14,
   "id": "f48540dc-f44c-4bb0-b1d0-8a53fabe93c9",
   "metadata": {},
   "outputs": [
    {
     "data": {
      "application/vnd.jupyter.widget-view+json": {
       "model_id": "97c8b0671ccd463fbd6a569e00836935",
       "version_major": 2,
       "version_minor": 0
      },
      "text/plain": [
       "Accordion(children=(VBox(children=(HTML(value='\\n<h1 id=\"summary_AAQK53DH32UPD614MR1L3MPZF\">Model Evaluation S…"
      ]
     },
     "metadata": {},
     "output_type": "display_data"
    }
   ],
   "source": [
    "result.show()"
   ]
  },
  {
   "cell_type": "code",
   "execution_count": 15,
   "id": "462d55f2-a4ef-4383-942c-3b8daf940fb7",
   "metadata": {},
   "outputs": [
    {
     "data": {
      "text/plain": [
       "'outputs/ModelEvaluation_DAI_simp.html'"
      ]
     },
     "execution_count": 15,
     "metadata": {},
     "output_type": "execute_result"
    }
   ],
   "source": [
    "# 結果をhtml保存\n",
    "result.save_as_html('outputs/ModelEvaluation_DAI_simp.html')\n",
    "\n",
    "# to see the result access to the html file"
   ]
  },
  {
   "cell_type": "code",
   "execution_count": null,
   "id": "57202d0b-8d33-4ee3-8eac-34b2c580936e",
   "metadata": {},
   "outputs": [],
   "source": []
  }
 ],
 "metadata": {
  "kernelspec": {
   "display_name": "Python 3 (ipykernel)",
   "language": "python",
   "name": "python3"
  },
  "language_info": {
   "codemirror_mode": {
    "name": "ipython",
    "version": 3
   },
   "file_extension": ".py",
   "mimetype": "text/x-python",
   "name": "python",
   "nbconvert_exporter": "python",
   "pygments_lexer": "ipython3",
   "version": "3.10.14"
  }
 },
 "nbformat": 4,
 "nbformat_minor": 5
}
