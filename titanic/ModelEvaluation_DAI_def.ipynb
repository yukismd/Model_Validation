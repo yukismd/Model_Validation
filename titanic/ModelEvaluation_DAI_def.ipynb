{
 "cells": [
  {
   "cell_type": "code",
   "execution_count": null,
   "id": "8b5ccfb7-f0c4-407f-ad58-a8a9c1b36ece",
   "metadata": {},
   "outputs": [],
   "source": []
  },
  {
   "cell_type": "code",
   "execution_count": 11,
   "id": "a1876baf-1bda-4749-9684-fb1384c45a97",
   "metadata": {},
   "outputs": [],
   "source": [
    "import pandas as pd\n",
    "import numpy as np\n",
    "from deepchecks.tabular import Dataset\n",
    "from deepchecks.tabular.suites import model_evaluation"
   ]
  },
  {
   "cell_type": "code",
   "execution_count": 21,
   "id": "b5b167c4-2b42-4955-b4cc-556e179d540c",
   "metadata": {},
   "outputs": [
    {
     "name": "stdout",
     "output_type": "stream",
     "text": [
      "\u001b[34mdefault_model\u001b[m\u001b[m \u001b[34msimple_model\u001b[m\u001b[m\n"
     ]
    }
   ],
   "source": [
    "!ls DAI_predict"
   ]
  },
  {
   "cell_type": "code",
   "execution_count": 22,
   "id": "67438cbd-8692-4f4d-86b3-cc224230d8ce",
   "metadata": {},
   "outputs": [
    {
     "name": "stdout",
     "output_type": "stream",
     "text": [
      "data---original-feature-importance.csv\n",
      "h2oai_experiment_simple_model_custom_dataset_TitanicData2_dcTest_csv_predictions.csv\n",
      "h2oai_experiment_simple_model_custom_dataset_TitanicData2_dcTrain_csv_predictions.csv\n"
     ]
    }
   ],
   "source": [
    "!ls DAI_predict/simple_model"
   ]
  },
  {
   "cell_type": "code",
   "execution_count": 35,
   "id": "618be089-04b2-4d4d-adc0-112c2afaafac",
   "metadata": {},
   "outputs": [
    {
     "data": {
      "text/plain": [
       "((1047, 11), (262, 11))"
      ]
     },
     "execution_count": 35,
     "metadata": {},
     "output_type": "execute_result"
    }
   ],
   "source": [
    "df_train = pd.read_csv('DAI_predict/simple_model/h2oai_experiment_simple_model_custom_dataset_TitanicData2_dcTrain_csv_predictions.csv')\n",
    "df_test = pd.read_csv('DAI_predict/simple_model/h2oai_experiment_simple_model_custom_dataset_TitanicData2_dcTest_csv_predictions.csv')\n",
    "df_train.shape, df_test.shape"
   ]
  },
  {
   "cell_type": "code",
   "execution_count": 36,
   "id": "345bc2d4-5650-47c6-9b4b-d3b7e726774b",
   "metadata": {},
   "outputs": [
    {
     "data": {
      "text/html": [
       "<div>\n",
       "<style scoped>\n",
       "    .dataframe tbody tr th:only-of-type {\n",
       "        vertical-align: middle;\n",
       "    }\n",
       "\n",
       "    .dataframe tbody tr th {\n",
       "        vertical-align: top;\n",
       "    }\n",
       "\n",
       "    .dataframe thead th {\n",
       "        text-align: right;\n",
       "    }\n",
       "</style>\n",
       "<table border=\"1\" class=\"dataframe\">\n",
       "  <thead>\n",
       "    <tr style=\"text-align: right;\">\n",
       "      <th></th>\n",
       "      <th>Passenger_Id</th>\n",
       "      <th>pclass</th>\n",
       "      <th>sex</th>\n",
       "      <th>age</th>\n",
       "      <th>sibsp</th>\n",
       "      <th>parch</th>\n",
       "      <th>fare</th>\n",
       "      <th>survived</th>\n",
       "      <th>survived.0</th>\n",
       "      <th>survived.1</th>\n",
       "      <th>survived.predicted(th=0.40031)</th>\n",
       "    </tr>\n",
       "  </thead>\n",
       "  <tbody>\n",
       "    <tr>\n",
       "      <th>0</th>\n",
       "      <td>648</td>\n",
       "      <td>3rd</td>\n",
       "      <td>female</td>\n",
       "      <td>22.0</td>\n",
       "      <td>0</td>\n",
       "      <td>0</td>\n",
       "      <td>7.7500</td>\n",
       "      <td>1</td>\n",
       "      <td>0.397761</td>\n",
       "      <td>0.602239</td>\n",
       "      <td>1</td>\n",
       "    </tr>\n",
       "    <tr>\n",
       "      <th>1</th>\n",
       "      <td>391</td>\n",
       "      <td>3rd</td>\n",
       "      <td>male</td>\n",
       "      <td>16.0</td>\n",
       "      <td>1</td>\n",
       "      <td>3</td>\n",
       "      <td>34.3750</td>\n",
       "      <td>0</td>\n",
       "      <td>0.874194</td>\n",
       "      <td>0.125806</td>\n",
       "      <td>0</td>\n",
       "    </tr>\n",
       "    <tr>\n",
       "      <th>2</th>\n",
       "      <td>351</td>\n",
       "      <td>1st</td>\n",
       "      <td>female</td>\n",
       "      <td>49.0</td>\n",
       "      <td>1</td>\n",
       "      <td>0</td>\n",
       "      <td>76.7292</td>\n",
       "      <td>1</td>\n",
       "      <td>0.140861</td>\n",
       "      <td>0.859139</td>\n",
       "      <td>1</td>\n",
       "    </tr>\n",
       "    <tr>\n",
       "      <th>3</th>\n",
       "      <td>1163</td>\n",
       "      <td>3rd</td>\n",
       "      <td>female</td>\n",
       "      <td>24.0</td>\n",
       "      <td>0</td>\n",
       "      <td>0</td>\n",
       "      <td>7.7500</td>\n",
       "      <td>0</td>\n",
       "      <td>0.397761</td>\n",
       "      <td>0.602239</td>\n",
       "      <td>1</td>\n",
       "    </tr>\n",
       "    <tr>\n",
       "      <th>4</th>\n",
       "      <td>105</td>\n",
       "      <td>3rd</td>\n",
       "      <td>female</td>\n",
       "      <td>18.0</td>\n",
       "      <td>0</td>\n",
       "      <td>0</td>\n",
       "      <td>9.8417</td>\n",
       "      <td>1</td>\n",
       "      <td>0.397761</td>\n",
       "      <td>0.602239</td>\n",
       "      <td>1</td>\n",
       "    </tr>\n",
       "  </tbody>\n",
       "</table>\n",
       "</div>"
      ],
      "text/plain": [
       "   Passenger_Id pclass     sex   age  sibsp  parch     fare  survived  \\\n",
       "0           648    3rd  female  22.0      0      0   7.7500         1   \n",
       "1           391    3rd    male  16.0      1      3  34.3750         0   \n",
       "2           351    1st  female  49.0      1      0  76.7292         1   \n",
       "3          1163    3rd  female  24.0      0      0   7.7500         0   \n",
       "4           105    3rd  female  18.0      0      0   9.8417         1   \n",
       "\n",
       "   survived.0  survived.1  survived.predicted(th=0.40031)  \n",
       "0    0.397761    0.602239                               1  \n",
       "1    0.874194    0.125806                               0  \n",
       "2    0.140861    0.859139                               1  \n",
       "3    0.397761    0.602239                               1  \n",
       "4    0.397761    0.602239                               1  "
      ]
     },
     "execution_count": 36,
     "metadata": {},
     "output_type": "execute_result"
    }
   ],
   "source": [
    "df_train.head()"
   ]
  },
  {
   "cell_type": "code",
   "execution_count": 37,
   "id": "979283b5-760f-4467-9f8d-2a07ef5fbc66",
   "metadata": {},
   "outputs": [
    {
     "data": {
      "text/html": [
       "<div>\n",
       "<style scoped>\n",
       "    .dataframe tbody tr th:only-of-type {\n",
       "        vertical-align: middle;\n",
       "    }\n",
       "\n",
       "    .dataframe tbody tr th {\n",
       "        vertical-align: top;\n",
       "    }\n",
       "\n",
       "    .dataframe thead th {\n",
       "        text-align: right;\n",
       "    }\n",
       "</style>\n",
       "<table border=\"1\" class=\"dataframe\">\n",
       "  <thead>\n",
       "    <tr style=\"text-align: right;\">\n",
       "      <th></th>\n",
       "      <th>Passenger_Id</th>\n",
       "      <th>pclass</th>\n",
       "      <th>sex</th>\n",
       "      <th>age</th>\n",
       "      <th>sibsp</th>\n",
       "      <th>parch</th>\n",
       "      <th>fare</th>\n",
       "      <th>survived</th>\n",
       "      <th>survived.0</th>\n",
       "      <th>survived.1</th>\n",
       "      <th>survived.predicted(th=0.40031)</th>\n",
       "    </tr>\n",
       "  </thead>\n",
       "  <tbody>\n",
       "    <tr>\n",
       "      <th>0</th>\n",
       "      <td>1298</td>\n",
       "      <td>1st</td>\n",
       "      <td>male</td>\n",
       "      <td>17.0</td>\n",
       "      <td>0</td>\n",
       "      <td>2</td>\n",
       "      <td>110.8833</td>\n",
       "      <td>1</td>\n",
       "      <td>0.528816</td>\n",
       "      <td>0.471184</td>\n",
       "      <td>1</td>\n",
       "    </tr>\n",
       "    <tr>\n",
       "      <th>1</th>\n",
       "      <td>575</td>\n",
       "      <td>1st</td>\n",
       "      <td>female</td>\n",
       "      <td>45.0</td>\n",
       "      <td>0</td>\n",
       "      <td>1</td>\n",
       "      <td>59.4000</td>\n",
       "      <td>1</td>\n",
       "      <td>0.056927</td>\n",
       "      <td>0.943073</td>\n",
       "      <td>1</td>\n",
       "    </tr>\n",
       "    <tr>\n",
       "      <th>2</th>\n",
       "      <td>328</td>\n",
       "      <td>3rd</td>\n",
       "      <td>male</td>\n",
       "      <td>20.0</td>\n",
       "      <td>0</td>\n",
       "      <td>0</td>\n",
       "      <td>7.8542</td>\n",
       "      <td>0</td>\n",
       "      <td>0.883736</td>\n",
       "      <td>0.116264</td>\n",
       "      <td>0</td>\n",
       "    </tr>\n",
       "    <tr>\n",
       "      <th>3</th>\n",
       "      <td>408</td>\n",
       "      <td>3rd</td>\n",
       "      <td>male</td>\n",
       "      <td>25.0</td>\n",
       "      <td>0</td>\n",
       "      <td>0</td>\n",
       "      <td>7.0500</td>\n",
       "      <td>0</td>\n",
       "      <td>0.883736</td>\n",
       "      <td>0.116264</td>\n",
       "      <td>0</td>\n",
       "    </tr>\n",
       "    <tr>\n",
       "      <th>4</th>\n",
       "      <td>844</td>\n",
       "      <td>1st</td>\n",
       "      <td>male</td>\n",
       "      <td>NaN</td>\n",
       "      <td>0</td>\n",
       "      <td>0</td>\n",
       "      <td>35.5000</td>\n",
       "      <td>1</td>\n",
       "      <td>0.636392</td>\n",
       "      <td>0.363608</td>\n",
       "      <td>0</td>\n",
       "    </tr>\n",
       "  </tbody>\n",
       "</table>\n",
       "</div>"
      ],
      "text/plain": [
       "   Passenger_Id pclass     sex   age  sibsp  parch      fare  survived  \\\n",
       "0          1298    1st    male  17.0      0      2  110.8833         1   \n",
       "1           575    1st  female  45.0      0      1   59.4000         1   \n",
       "2           328    3rd    male  20.0      0      0    7.8542         0   \n",
       "3           408    3rd    male  25.0      0      0    7.0500         0   \n",
       "4           844    1st    male   NaN      0      0   35.5000         1   \n",
       "\n",
       "   survived.0  survived.1  survived.predicted(th=0.40031)  \n",
       "0    0.528816    0.471184                               1  \n",
       "1    0.056927    0.943073                               1  \n",
       "2    0.883736    0.116264                               0  \n",
       "3    0.883736    0.116264                               0  \n",
       "4    0.636392    0.363608                               0  "
      ]
     },
     "execution_count": 37,
     "metadata": {},
     "output_type": "execute_result"
    }
   ],
   "source": [
    "df_test.head()"
   ]
  },
  {
   "cell_type": "code",
   "execution_count": 38,
   "id": "dc9b99c4-a93f-4fc4-9888-4eb2bd49db17",
   "metadata": {},
   "outputs": [
    {
     "data": {
      "text/html": [
       "<div>\n",
       "<style scoped>\n",
       "    .dataframe tbody tr th:only-of-type {\n",
       "        vertical-align: middle;\n",
       "    }\n",
       "\n",
       "    .dataframe tbody tr th {\n",
       "        vertical-align: top;\n",
       "    }\n",
       "\n",
       "    .dataframe thead th {\n",
       "        text-align: right;\n",
       "    }\n",
       "</style>\n",
       "<table border=\"1\" class=\"dataframe\">\n",
       "  <thead>\n",
       "    <tr style=\"text-align: right;\">\n",
       "      <th></th>\n",
       "      <th>label</th>\n",
       "      <th>value</th>\n",
       "    </tr>\n",
       "  </thead>\n",
       "  <tbody>\n",
       "    <tr>\n",
       "      <th>0</th>\n",
       "      <td>sex</td>\n",
       "      <td>1.000</td>\n",
       "    </tr>\n",
       "    <tr>\n",
       "      <th>1</th>\n",
       "      <td>pclass</td>\n",
       "      <td>0.527</td>\n",
       "    </tr>\n",
       "    <tr>\n",
       "      <th>2</th>\n",
       "      <td>parch</td>\n",
       "      <td>0.000</td>\n",
       "    </tr>\n",
       "  </tbody>\n",
       "</table>\n",
       "</div>"
      ],
      "text/plain": [
       "    label  value\n",
       "0     sex  1.000\n",
       "1  pclass  0.527\n",
       "2   parch  0.000"
      ]
     },
     "execution_count": 38,
     "metadata": {},
     "output_type": "execute_result"
    }
   ],
   "source": [
    "df_fi = pd.read_csv('DAI_predict/simple_model/data---original-feature-importance.csv', skiprows=2)\n",
    "df_fi"
   ]
  },
  {
   "cell_type": "code",
   "execution_count": 54,
   "id": "7485562e-2864-4a5d-8cd1-6d5dc6b5cf35",
   "metadata": {},
   "outputs": [],
   "source": [
    "def get_proba_array(df, proba_cols) -> np.array:\n",
    "    ''' Return predict probability of classification problem as numpy array '''\n",
    "    return df[proba_cols].to_numpy()\n",
    "\n",
    "def get_feature_inportance_series(df, features) -> pd.Series:\n",
    "    '''\n",
    "    Get DAI original feature importance dataframe and return the importance values with feture name index.\n",
    "    The order of feature (which is 'features') must be same as the order of training dataset features.\n",
    "    ''' \n",
    "    return pd.merge(pd.DataFrame({'label':features}), df, on='label', how='left').fillna(0.).set_index('label')['value']"
   ]
  },
  {
   "cell_type": "code",
   "execution_count": 44,
   "id": "88d65475-0de4-4c7c-b209-e9d3b4eea89d",
   "metadata": {},
   "outputs": [
    {
     "data": {
      "text/plain": [
       "((1047, 2), (262, 2))"
      ]
     },
     "execution_count": 44,
     "metadata": {},
     "output_type": "execute_result"
    }
   ],
   "source": [
    "train_proba = get_proba_array(df_train, ['survived.0','survived.1'])\n",
    "test_proba = get_proba_array(df_test, ['survived.0','survived.1'])\n",
    "train_proba.shape, test_proba.shape"
   ]
  },
  {
   "cell_type": "code",
   "execution_count": 56,
   "id": "036d4b75-0569-4223-8c1b-08c7cb123282",
   "metadata": {},
   "outputs": [
    {
     "data": {
      "text/plain": [
       "label\n",
       "pclass    0.527\n",
       "sex       1.000\n",
       "age       0.000\n",
       "sibsp     0.000\n",
       "parch     0.000\n",
       "fare      0.000\n",
       "Name: value, dtype: float64"
      ]
     },
     "execution_count": 56,
     "metadata": {},
     "output_type": "execute_result"
    }
   ],
   "source": [
    "features = ['pclass','sex','age','sibsp','parch','fare']\n",
    "fi = get_feature_inportance_series(df_fi, features)\n",
    "fi"
   ]
  },
  {
   "cell_type": "code",
   "execution_count": 59,
   "id": "9f38ae81-4190-4ee5-adff-94476fe41639",
   "metadata": {},
   "outputs": [
    {
     "data": {
      "text/html": [
       "<div>\n",
       "<style scoped>\n",
       "    .dataframe tbody tr th:only-of-type {\n",
       "        vertical-align: middle;\n",
       "    }\n",
       "\n",
       "    .dataframe tbody tr th {\n",
       "        vertical-align: top;\n",
       "    }\n",
       "\n",
       "    .dataframe thead th {\n",
       "        text-align: right;\n",
       "    }\n",
       "</style>\n",
       "<table border=\"1\" class=\"dataframe\">\n",
       "  <thead>\n",
       "    <tr style=\"text-align: right;\">\n",
       "      <th></th>\n",
       "      <th>Passenger_Id</th>\n",
       "      <th>pclass</th>\n",
       "      <th>sex</th>\n",
       "      <th>age</th>\n",
       "      <th>sibsp</th>\n",
       "      <th>parch</th>\n",
       "      <th>fare</th>\n",
       "      <th>survived</th>\n",
       "      <th>survived.0</th>\n",
       "      <th>survived.1</th>\n",
       "      <th>survived.predicted(th=0.40031)</th>\n",
       "    </tr>\n",
       "  </thead>\n",
       "  <tbody>\n",
       "    <tr>\n",
       "      <th>0</th>\n",
       "      <td>648</td>\n",
       "      <td>3rd</td>\n",
       "      <td>female</td>\n",
       "      <td>22.0</td>\n",
       "      <td>0</td>\n",
       "      <td>0</td>\n",
       "      <td>7.7500</td>\n",
       "      <td>1</td>\n",
       "      <td>0.397761</td>\n",
       "      <td>0.602239</td>\n",
       "      <td>1</td>\n",
       "    </tr>\n",
       "    <tr>\n",
       "      <th>1</th>\n",
       "      <td>391</td>\n",
       "      <td>3rd</td>\n",
       "      <td>male</td>\n",
       "      <td>16.0</td>\n",
       "      <td>1</td>\n",
       "      <td>3</td>\n",
       "      <td>34.3750</td>\n",
       "      <td>0</td>\n",
       "      <td>0.874194</td>\n",
       "      <td>0.125806</td>\n",
       "      <td>0</td>\n",
       "    </tr>\n",
       "    <tr>\n",
       "      <th>2</th>\n",
       "      <td>351</td>\n",
       "      <td>1st</td>\n",
       "      <td>female</td>\n",
       "      <td>49.0</td>\n",
       "      <td>1</td>\n",
       "      <td>0</td>\n",
       "      <td>76.7292</td>\n",
       "      <td>1</td>\n",
       "      <td>0.140861</td>\n",
       "      <td>0.859139</td>\n",
       "      <td>1</td>\n",
       "    </tr>\n",
       "    <tr>\n",
       "      <th>3</th>\n",
       "      <td>1163</td>\n",
       "      <td>3rd</td>\n",
       "      <td>female</td>\n",
       "      <td>24.0</td>\n",
       "      <td>0</td>\n",
       "      <td>0</td>\n",
       "      <td>7.7500</td>\n",
       "      <td>0</td>\n",
       "      <td>0.397761</td>\n",
       "      <td>0.602239</td>\n",
       "      <td>1</td>\n",
       "    </tr>\n",
       "    <tr>\n",
       "      <th>4</th>\n",
       "      <td>105</td>\n",
       "      <td>3rd</td>\n",
       "      <td>female</td>\n",
       "      <td>18.0</td>\n",
       "      <td>0</td>\n",
       "      <td>0</td>\n",
       "      <td>9.8417</td>\n",
       "      <td>1</td>\n",
       "      <td>0.397761</td>\n",
       "      <td>0.602239</td>\n",
       "      <td>1</td>\n",
       "    </tr>\n",
       "    <tr>\n",
       "      <th>...</th>\n",
       "      <td>...</td>\n",
       "      <td>...</td>\n",
       "      <td>...</td>\n",
       "      <td>...</td>\n",
       "      <td>...</td>\n",
       "      <td>...</td>\n",
       "      <td>...</td>\n",
       "      <td>...</td>\n",
       "      <td>...</td>\n",
       "      <td>...</td>\n",
       "      <td>...</td>\n",
       "    </tr>\n",
       "    <tr>\n",
       "      <th>1042</th>\n",
       "      <td>1247</td>\n",
       "      <td>3rd</td>\n",
       "      <td>female</td>\n",
       "      <td>NaN</td>\n",
       "      <td>0</td>\n",
       "      <td>0</td>\n",
       "      <td>14.5000</td>\n",
       "      <td>0</td>\n",
       "      <td>0.397761</td>\n",
       "      <td>0.602239</td>\n",
       "      <td>1</td>\n",
       "    </tr>\n",
       "    <tr>\n",
       "      <th>1043</th>\n",
       "      <td>1114</td>\n",
       "      <td>3rd</td>\n",
       "      <td>male</td>\n",
       "      <td>20.0</td>\n",
       "      <td>0</td>\n",
       "      <td>0</td>\n",
       "      <td>4.0125</td>\n",
       "      <td>0</td>\n",
       "      <td>0.883736</td>\n",
       "      <td>0.116264</td>\n",
       "      <td>0</td>\n",
       "    </tr>\n",
       "    <tr>\n",
       "      <th>1044</th>\n",
       "      <td>862</td>\n",
       "      <td>1st</td>\n",
       "      <td>female</td>\n",
       "      <td>39.0</td>\n",
       "      <td>1</td>\n",
       "      <td>1</td>\n",
       "      <td>79.6500</td>\n",
       "      <td>1</td>\n",
       "      <td>0.061102</td>\n",
       "      <td>0.938898</td>\n",
       "      <td>1</td>\n",
       "    </tr>\n",
       "    <tr>\n",
       "      <th>1045</th>\n",
       "      <td>835</td>\n",
       "      <td>3rd</td>\n",
       "      <td>male</td>\n",
       "      <td>18.5</td>\n",
       "      <td>0</td>\n",
       "      <td>0</td>\n",
       "      <td>7.2292</td>\n",
       "      <td>0</td>\n",
       "      <td>0.883736</td>\n",
       "      <td>0.116264</td>\n",
       "      <td>0</td>\n",
       "    </tr>\n",
       "    <tr>\n",
       "      <th>1046</th>\n",
       "      <td>812</td>\n",
       "      <td>3rd</td>\n",
       "      <td>male</td>\n",
       "      <td>44.0</td>\n",
       "      <td>0</td>\n",
       "      <td>0</td>\n",
       "      <td>8.0500</td>\n",
       "      <td>0</td>\n",
       "      <td>0.883736</td>\n",
       "      <td>0.116264</td>\n",
       "      <td>0</td>\n",
       "    </tr>\n",
       "  </tbody>\n",
       "</table>\n",
       "<p>1047 rows × 11 columns</p>\n",
       "</div>"
      ],
      "text/plain": [
       "      Passenger_Id pclass     sex   age  sibsp  parch     fare  survived  \\\n",
       "0              648    3rd  female  22.0      0      0   7.7500         1   \n",
       "1              391    3rd    male  16.0      1      3  34.3750         0   \n",
       "2              351    1st  female  49.0      1      0  76.7292         1   \n",
       "3             1163    3rd  female  24.0      0      0   7.7500         0   \n",
       "4              105    3rd  female  18.0      0      0   9.8417         1   \n",
       "...            ...    ...     ...   ...    ...    ...      ...       ...   \n",
       "1042          1247    3rd  female   NaN      0      0  14.5000         0   \n",
       "1043          1114    3rd    male  20.0      0      0   4.0125         0   \n",
       "1044           862    1st  female  39.0      1      1  79.6500         1   \n",
       "1045           835    3rd    male  18.5      0      0   7.2292         0   \n",
       "1046           812    3rd    male  44.0      0      0   8.0500         0   \n",
       "\n",
       "      survived.0  survived.1  survived.predicted(th=0.40031)  \n",
       "0       0.397761    0.602239                               1  \n",
       "1       0.874194    0.125806                               0  \n",
       "2       0.140861    0.859139                               1  \n",
       "3       0.397761    0.602239                               1  \n",
       "4       0.397761    0.602239                               1  \n",
       "...          ...         ...                             ...  \n",
       "1042    0.397761    0.602239                               1  \n",
       "1043    0.883736    0.116264                               0  \n",
       "1044    0.061102    0.938898                               1  \n",
       "1045    0.883736    0.116264                               0  \n",
       "1046    0.883736    0.116264                               0  \n",
       "\n",
       "[1047 rows x 11 columns]"
      ]
     },
     "execution_count": 59,
     "metadata": {},
     "output_type": "execute_result"
    }
   ],
   "source": [
    "df_train"
   ]
  },
  {
   "cell_type": "code",
   "execution_count": 61,
   "id": "bd7927d5-31d1-42df-b3f9-d861d14bc33f",
   "metadata": {},
   "outputs": [],
   "source": [
    "train_features = ['Passenger_Id','pclass','sex','age','sibsp','parch','fare','survived']\n",
    "\n",
    "ds_train = Dataset(df_train[train_features],\n",
    "                   label='survived',\n",
    "                   index_name='Passenger_Id',\n",
    "                   cat_features=['pclass','sex'])\n",
    "ds_test = Dataset(df_test[train_features],\n",
    "                  label='survived',\n",
    "                  index_name='Passenger_Id',\n",
    "                  cat_features=['pclass','sex'])"
   ]
  },
  {
   "cell_type": "code",
   "execution_count": 64,
   "id": "083ca213-3d1a-4b03-b543-0905ed7fafd1",
   "metadata": {},
   "outputs": [
    {
     "data": {
      "text/plain": [
       "deepchecks.tabular.dataset.Dataset"
      ]
     },
     "execution_count": 64,
     "metadata": {},
     "output_type": "execute_result"
    }
   ],
   "source": [
    "type(ds_train)"
   ]
  },
  {
   "cell_type": "code",
   "execution_count": 62,
   "id": "b6b2e473-69bc-4e06-bf85-22d0007ad0f0",
   "metadata": {},
   "outputs": [
    {
     "name": "stderr",
     "output_type": "stream",
     "text": [
      "/opt/anaconda3/envs/ML/lib/python3.10/site-packages/deepchecks/tabular/utils/feature_importance.py:454: UserWarning:\n",
      "\n",
      "feature_importance does not sum to 1. Normalizing to 1.\n",
      "\n",
      "deepchecks - WARNING - train and test datasets have common index - adding \"train\"/\"test\" prefixes. To avoid that provide datasets with no common indexes or pass the model object instead of the predictions.\n"
     ]
    },
    {
     "data": {
      "text/html": [
       "\n",
       "    <style>\n",
       "        progress {\n",
       "            -webkit-appearance: none;\n",
       "            border: none;\n",
       "            border-radius: 3px;\n",
       "            width: 300px;\n",
       "            height: 20px;\n",
       "            vertical-align: middle;\n",
       "            margin-right: 10px;\n",
       "            background-color: aliceblue;\n",
       "        }\n",
       "        progress::-webkit-progress-bar {\n",
       "            border-radius: 3px;\n",
       "            background-color: aliceblue;\n",
       "        }\n",
       "        progress::-webkit-progress-value {\n",
       "            background-color: #9d60fb;\n",
       "        }\n",
       "        progress::-moz-progress-bar {\n",
       "            background-color: #9d60fb;\n",
       "        }\n",
       "    </style>\n",
       "    "
      ]
     },
     "metadata": {},
     "output_type": "display_data"
    },
    {
     "data": {
      "text/html": []
     },
     "metadata": {},
     "output_type": "display_data"
    },
    {
     "name": "stderr",
     "output_type": "stream",
     "text": [
      "deepchecks - WARNING - Could not find model's classes, using the observed classes. In order to make sure the classes used by the model are inferred correctly, please use the model_classes argument\n"
     ]
    }
   ],
   "source": [
    "result = model_evaluation().run(train_dataset=ds_train,    # Train data (Dataset)\n",
    "                                test_dataset=ds_test,      # Test data (Dataset)\n",
    "                                feature_importance=fi,     # Feature importance (Series)\n",
    "                                y_proba_train=train_proba, # Train prediction probability (array)\n",
    "                                y_proba_test=test_proba)   # Test prediction probability (array)"
   ]
  },
  {
   "cell_type": "code",
   "execution_count": 63,
   "id": "f48540dc-f44c-4bb0-b1d0-8a53fabe93c9",
   "metadata": {},
   "outputs": [
    {
     "data": {
      "application/vnd.jupyter.widget-view+json": {
       "model_id": "8fc1776717a74da3b9f7910d88f5fa84",
       "version_major": 2,
       "version_minor": 0
      },
      "text/plain": [
       "Accordion(children=(VBox(children=(HTML(value='\\n<h1 id=\"summary_MT58CK1QZ9IH6EJUN0HCNI7OE\">Model Evaluation S…"
      ]
     },
     "metadata": {},
     "output_type": "display_data"
    }
   ],
   "source": [
    "result.show()"
   ]
  },
  {
   "cell_type": "code",
   "execution_count": null,
   "id": "462d55f2-a4ef-4383-942c-3b8daf940fb7",
   "metadata": {},
   "outputs": [],
   "source": []
  }
 ],
 "metadata": {
  "kernelspec": {
   "display_name": "Python 3 (ipykernel)",
   "language": "python",
   "name": "python3"
  },
  "language_info": {
   "codemirror_mode": {
    "name": "ipython",
    "version": 3
   },
   "file_extension": ".py",
   "mimetype": "text/x-python",
   "name": "python",
   "nbconvert_exporter": "python",
   "pygments_lexer": "ipython3",
   "version": "3.10.14"
  }
 },
 "nbformat": 4,
 "nbformat_minor": 5
}
